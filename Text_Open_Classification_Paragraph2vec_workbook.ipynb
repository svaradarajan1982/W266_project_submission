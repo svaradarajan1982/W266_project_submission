{
 "cells": [
  {
   "cell_type": "markdown",
   "metadata": {},
   "source": [
    "# Project Experiment Grid"
   ]
  },
  {
   "cell_type": "code",
   "execution_count": 1,
   "metadata": {
    "collapsed": false
   },
   "outputs": [
    {
     "data": {
      "text/html": [
       "<style>\n",
       "  table {margin-left: 0 !important;}\n",
       "</style>"
      ],
      "text/plain": [
       "<IPython.core.display.HTML object>"
      ]
     },
     "metadata": {},
     "output_type": "display_data"
    }
   ],
   "source": [
    "%%html\n",
    "<style>\n",
    "  table {margin-left: 0 !important;}\n",
    "</style>"
   ]
  },
  {
   "cell_type": "markdown",
   "metadata": {},
   "source": [
    "| Model         | Open Classification |\n",
    "|-------------- |---------------------|\n",
    "| Paragraph2vec | 1-vs-Rest           |\n",
    "| Paragraph2vec | GMM                 |\n",
    "| Paragraph2vec | IDPs                |\n",
    "| CNN           | 1-vs-Rest           |\n",
    "| CNN           | GMM                 |\n",
    "| CNN           | IDPs                |"
   ]
  },
  {
   "cell_type": "markdown",
   "metadata": {},
   "source": [
    "* Output Layer: The DOC paper used 2 fully connected layer convert back to dimension M using $y = W'(ReLU(W \\cdot o + b)) + b'$ where:\n",
    "    * o: feature vector from cnn layer after max-poolling is in $k$\n",
    "    * W: $r \\times k$\n",
    "    * W': $M \\times r$\n",
    "    * y: $M$"
   ]
  },
  {
   "cell_type": "markdown",
   "metadata": {},
   "source": [
    "** Open Classification **\n",
    "\n",
    "* 1-vs-Rest Layer of DOC\n",
    "\n",
    "    * M (number of class) sigmoid function, N (batch_size)\n",
    "    * Objective function for training is $$loss = \\sum_{i=1}^M \\sum_{i=1}^N y_n log(p) + (1 - y_n)log(1 - p(y))$$ is the summation of all log loss (cross-entropy) on the training data.\n",
    "    * At prediction, reject if all predicted probability is less than their threshold t_i, otherwise $argmax(Sigmoid(d))$\n",
    "    * The theshold is determined by using outlier detection. (***We can use a fixed number such as 0.95 to validate our model implementation***)\n",
    "\n",
    "\n",
    "* Clustering Approach\n",
    "    * KNN\n",
    "    * Gausian Mix Model\n",
    "    * Infinite Dirichlet process"
   ]
  },
  {
   "cell_type": "code",
   "execution_count": 3,
   "metadata": {
    "collapsed": false
   },
   "outputs": [
    {
     "name": "stdout",
     "output_type": "stream",
     "text": [
      "[nltk_data] Downloading package stopwords to /home/qianyu/nltk_data...\n",
      "[nltk_data]   Package stopwords is already up-to-date!\n"
     ]
    },
    {
     "data": {
      "text/plain": [
       "<module 'shared_lib.utils' from 'shared_lib/utils.pyc'>"
      ]
     },
     "execution_count": 3,
     "metadata": {},
     "output_type": "execute_result"
    }
   ],
   "source": [
    "# This tells matplotlib not to try opening a new window for each plot.\n",
    "%matplotlib inline\n",
    "# General libraries.\n",
    "import re\n",
    "import time\n",
    "import numpy as np\n",
    "import tensorflow as tf\n",
    "assert(tf.__version__.startswith(\"1.1\"))\n",
    "import matplotlib.pyplot as plt\n",
    "import sys\n",
    "import gensim\n",
    "import nltk\n",
    "import collections\n",
    "import smart_open\n",
    "import random\n",
    "\n",
    "# SK-learn library for importing the newsgroup data.\n",
    "from sklearn.datasets import fetch_20newsgroups\n",
    "\n",
    "# SK-learn libraries for feature extraction from text.\n",
    "from sklearn.feature_extraction.text import *\n",
    "from sklearn.svm import LinearSVC\n",
    "from gensim.models import Word2Vec\n",
    "from sklearn import metrics\n",
    "from sklearn.cross_validation import cross_val_score, KFold\n",
    "from sklearn.metrics import classification_report, accuracy_score\n",
    "from sklearn.naive_bayes import MultinomialNB\n",
    "from sklearn import svm\n",
    "from sklearn.preprocessing import LabelEncoder\n",
    "from sklearn.grid_search import GridSearchCV\n",
    "from pprint import pprint\n",
    "from nltk import RegexpTokenizer\n",
    "from nltk.corpus import stopwords\n",
    "\n",
    "# Helper libraries\n",
    "from shared_lib import utils, vocabulary, tf_embed_viz\n",
    "nltk.download('stopwords')\n",
    "reload(utils)"
   ]
  },
  {
   "cell_type": "markdown",
   "metadata": {},
   "source": [
    "# 1. Paragraph2vec Model Building\n",
    "\n",
    "## Importing Data"
   ]
  },
  {
   "cell_type": "code",
   "execution_count": 4,
   "metadata": {
    "collapsed": false
   },
   "outputs": [
    {
     "name": "stdout",
     "output_type": "stream",
     "text": [
      "class: 0\t = alt.atheism\n",
      "class: 1\t = comp.graphics\n",
      "class: 2\t = comp.os.ms-windows.misc\n",
      "class: 3\t = comp.sys.ibm.pc.hardware\n",
      "class: 4\t = comp.sys.mac.hardware\n",
      "class: 5\t = comp.windows.x\n",
      "class: 6\t = misc.forsale\n",
      "class: 7\t = rec.autos\n",
      "class: 8\t = rec.motorcycles\n",
      "class: 9\t = rec.sport.baseball\n",
      "class: 10\t = rec.sport.hockey\n",
      "class: 11\t = sci.crypt\n",
      "class: 12\t = sci.electronics\n",
      "class: 13\t = sci.med\n",
      "class: 14\t = sci.space\n",
      "class: 15\t = soc.religion.christian\n",
      "class: 16\t = talk.politics.guns\n",
      "class: 17\t = talk.politics.mideast\n",
      "class: 18\t = talk.politics.misc\n",
      "class: 19\t = talk.religion.misc\n"
     ]
    }
   ],
   "source": [
    "# Get newsgroup data\n",
    "newsgroup_data_all = fetch_20newsgroups(subset = 'all', remove=('headers', 'footers', 'quotes'))\n",
    "\n",
    "# List of all the class labels\n",
    "label_list = list(newsgroup_data_all.target_names)\n",
    "\n",
    "# Print the class labels\n",
    "i = 0\n",
    "for label in label_list:\n",
    "    print \"class: %i\\t = %s\" %(i, label)\n",
    "    i += 1"
   ]
  },
  {
   "cell_type": "markdown",
   "metadata": {},
   "source": [
    "## Randomly Select Classes"
   ]
  },
  {
   "cell_type": "code",
   "execution_count": 5,
   "metadata": {
    "collapsed": false
   },
   "outputs": [
    {
     "name": "stdout",
     "output_type": "stream",
     "text": [
      "Randomly Select Classes:  ['comp.sys.mac.hardware', 'talk.religion.misc', 'comp.os.ms-windows.misc', 'sci.space', 'comp.graphics']\n"
     ]
    }
   ],
   "source": [
    "from random import randint\n",
    "random.seed(8)\n",
    "\n",
    "num_class = 5\n",
    "randomize = True\n",
    "\n",
    "if randomize == True:\n",
    "    label_idxs = []\n",
    "    for x in range(num_class):\n",
    "        label_idxs.append(randint(0, 19))\n",
    "else:\n",
    "    label_idxs = range(num_class)\n",
    "\n",
    "select_classes = [label_list[i] for i in label_idxs]\n",
    "print \"Randomly Select Classes: \", select_classes\n",
    "\n",
    "newsgroups_all = fetch_20newsgroups(subset='all', remove=('headers', 'footers', 'quotes'),\n",
    "                                    categories=select_classes)\n",
    "\n",
    "all_data, all_labels = newsgroups_all.data, newsgroups_all.target"
   ]
  },
  {
   "cell_type": "markdown",
   "metadata": {},
   "source": [
    "## Setup Paragraph2Vec"
   ]
  },
  {
   "cell_type": "code",
   "execution_count": 7,
   "metadata": {
    "collapsed": false
   },
   "outputs": [
    {
     "name": "stdout",
     "output_type": "stream",
     "text": [
      "Loaded 4536 docs (5.69464e+06 tokens)\n",
      "Training set: 3628 docs (4616334 tokens)\n",
      "Test set: 908 docs (1078303 tokens)\n"
     ]
    }
   ],
   "source": [
    "#Preprocessing for Doc2Vec \n",
    "# shuffle and split data\n",
    "train_docs, train_labels, test_docs, test_labels = utils.get_train_test_docs(all_data, \n",
    "                                                                             all_labels, \n",
    "                                                                             split = 0.8, \n",
    "                                                                             shuffle = True)\n",
    "\n",
    "# clean string\n",
    "# remove stop words and take care of stemming\n",
    "train_docs = utils.preprocess_doc(train_docs, fix_length = False)\n",
    "test_docs = utils.preprocess_doc(test_docs, fix_length = False)"
   ]
  },
  {
   "cell_type": "markdown",
   "metadata": {},
   "source": [
    "** LabeledSentence is a data structure of gesim's Doc2vec document **"
   ]
  },
  {
   "cell_type": "code",
   "execution_count": 8,
   "metadata": {
    "collapsed": true
   },
   "outputs": [],
   "source": [
    "from collections import namedtuple\n",
    "from gensim.models.doc2vec import  LabeledSentence\n",
    "import sys\n",
    "\n",
    "all_newsgroup_documents = []\n",
    "all_newsgroup_documents_20 = []\n",
    "\n",
    "#Used to convert newsgroup corpus into Doc2Vec formats\n",
    "def convert_newsgroup(docs,split):\n",
    "    #global doc_count\n",
    "    tagged_documents = []\n",
    "    \n",
    "    for i,v in enumerate(docs):\n",
    "        label = '%s_%s'%(split,i)\n",
    "        tagged_documents.append(LabeledSentence(v, [label]))\n",
    "    \n",
    "    return tagged_documents"
   ]
  },
  {
   "cell_type": "code",
   "execution_count": 9,
   "metadata": {
    "collapsed": false,
    "scrolled": true
   },
   "outputs": [
    {
     "name": "stdout",
     "output_type": "stream",
     "text": [
      "4536 docs: 3628 train, 908 test\n",
      "3628\n"
     ]
    }
   ],
   "source": [
    "test_docs = convert_newsgroup(test_docs,'test')\n",
    "train_docs = convert_newsgroup(train_docs,'train')\n",
    "\n",
    "all_newsgroup_documents.extend(train_docs)\n",
    "all_newsgroup_documents.extend(test_docs)\n",
    "\n",
    "doc_list = all_newsgroup_documents[:]  # for reshuffling per pass\n",
    "\n",
    "print('%d docs: %d train, %d test' % (len(doc_list), len(train_docs), len(test_docs)))\n",
    "print(len(train_labels))"
   ]
  },
  {
   "cell_type": "markdown",
   "metadata": {},
   "source": [
    "\n",
    "## Create Paragraph2Vec Model"
   ]
  },
  {
   "cell_type": "code",
   "execution_count": 10,
   "metadata": {
    "collapsed": false
   },
   "outputs": [],
   "source": [
    "from gensim.models import *\n",
    "from gensim.test.test_doc2vec import ConcatenatedDoc2Vec\n",
    "\n",
    "# Doc2Vec Parameter\n",
    "# dm = 0 use distributed bag of words, dm=1 distributed memory\n",
    "dm_model = Doc2Vec(dm=1, dm_mean=1, sample=1e-5, size=450, window=10, negative=5, hs=0, min_count=2, workers=10)\n",
    "dm_model.build_vocab(all_newsgroup_documents)"
   ]
  },
  {
   "cell_type": "markdown",
   "metadata": {},
   "source": [
    "## Training Paragraph2Vec Model"
   ]
  },
  {
   "cell_type": "code",
   "execution_count": 11,
   "metadata": {
    "collapsed": false,
    "scrolled": true
   },
   "outputs": [
    {
     "name": "stderr",
     "output_type": "stream",
     "text": [
      "100% |########################################################################|\n"
     ]
    }
   ],
   "source": [
    "from random import shuffle\n",
    "import progressbar\n",
    "alpha, min_alpha, passes = (0.025, 0.001, 100)\n",
    "alpha_delta = (alpha - min_alpha) / passes\n",
    "bar = progressbar.ProgressBar()\n",
    "\n",
    "for epoch in bar(range(passes)):\n",
    "    shuffle(doc_list)\n",
    "    \n",
    "    dm_model.alpha, dm_model.min_alpha = alpha, alpha\n",
    "    dm_model.train(doc_list)\n",
    "    alpha -= alpha_delta"
   ]
  },
  {
   "cell_type": "markdown",
   "metadata": {},
   "source": [
    "## Extract training and test vectors from the Model"
   ]
  },
  {
   "cell_type": "code",
   "execution_count": 12,
   "metadata": {
    "collapsed": true
   },
   "outputs": [],
   "source": [
    "from collections import defaultdict\n",
    "best_error = defaultdict(lambda :1.0)\n",
    "\n",
    "#Get Vectors From Doc2Vec\n",
    "def extract_vectors(model, docs):    \n",
    "    vectors_list = []\n",
    "    for doc_no in range(len(docs)):\n",
    "        doc_label = docs[doc_no].tags[0] # Use tag to id\n",
    "        doc_vector = model.docvecs[doc_label]\n",
    "        vectors_list.append(doc_vector)      \n",
    "    return vectors_list\n",
    "\n",
    "# TODO inferred vectors\n",
    "def get_infer_vectors(model,docs):   \n",
    "    vecs = []\n",
    "    for doc in docs:\n",
    "        vecs.append(model.infer_vector(doc.words))\n",
    "    return vecs"
   ]
  },
  {
   "cell_type": "code",
   "execution_count": 13,
   "metadata": {
    "collapsed": false
   },
   "outputs": [
    {
     "name": "stdout",
     "output_type": "stream",
     "text": [
      "(3628, 450)\n",
      "(908, 450)\n",
      "(3628, 5)\n",
      "(908, 5)\n"
     ]
    }
   ],
   "source": [
    "train_docs_ids = np.array(extract_vectors(dm_model,train_docs))\n",
    "test_docs_ids = np.array(extract_vectors(dm_model,test_docs))\n",
    "\n",
    "# Convert label to one-hot-code\n",
    "train_labels_oh = np.eye(num_class)[train_labels]\n",
    "test_labels_oh = np.eye(num_class)[test_labels]\n",
    "\n",
    "print train_docs_ids.shape\n",
    "print test_docs_ids.shape\n",
    "print train_labels_oh.shape\n",
    "print test_labels_oh.shape"
   ]
  },
  {
   "cell_type": "markdown",
   "metadata": {},
   "source": [
    "# 2. Testing Paragraph2vec model with the output layer \n",
    "\n",
    "## To benchmark with CNN Model"
   ]
  },
  {
   "cell_type": "code",
   "execution_count": 14,
   "metadata": {
    "collapsed": false
   },
   "outputs": [
    {
     "name": "stdout",
     "output_type": "stream",
     "text": [
      "number of classes:  5\n",
      "feature size:  450\n",
      "hidden output size:  250\n"
     ]
    }
   ],
   "source": [
    "num_classes = num_class\n",
    "feature_size = 450\n",
    "l2_reg_lambda = 0.0\n",
    "hidden = 250 # r\n",
    "\n",
    "print \"number of classes: \", num_classes\n",
    "print \"feature size: \", feature_size\n",
    "print \"hidden output size: \", hidden"
   ]
  },
  {
   "cell_type": "code",
   "execution_count": 15,
   "metadata": {
    "collapsed": false
   },
   "outputs": [],
   "source": [
    "# x_ is the Paragraph2vec input vectors\n",
    "x_ = tf.placeholder(tf.float32, [None, feature_size], name=\"x\")\n",
    "y_ = tf.placeholder(tf.float32, [None, num_classes], name=\"y\")\n",
    "l2_loss = tf.constant(0.0)\n",
    "\n",
    "# Output Layer: Softmax\n",
    "with tf.name_scope(\"Output_layer\"):\n",
    "    Z1_ = tf.Variable(tf.random_uniform([feature_size, hidden], -1.0, 1.0), name = \"Z1\")\n",
    "    Z2_ = tf.Variable(tf.random_uniform([hidden, num_classes], -1.0, 1.0), name = \"Z2\")\n",
    "    b1_ = tf.Variable(tf.constant(0.1, shape=[hidden]), name=\"b1\")\n",
    "    b2_ = tf.Variable(tf.constant(0.1, shape=[num_classes]), name=\"b2\")\n",
    "    hidden_out = tf.nn.relu(tf.matmul(x_, Z1_) + b1_)\n",
    "    logits_ = tf.add(tf.matmul(hidden_out, Z2_), b2_, name=\"logits\")\n",
    "    \n",
    "    # L2 loss\n",
    "    l2_loss += tf.nn.l2_loss(Z1_)\n",
    "    l2_loss += tf.nn.l2_loss(b1_)\n",
    "    l2_loss += tf.nn.l2_loss(Z2_)\n",
    "    l2_loss += tf.nn.l2_loss(b2_)\n",
    "    \n",
    "    #scores = tf.nn.xw_plus_b(h_drop, W, b, name=\"scores\")\n",
    "    predictions_ = tf.argmax(logits_, 1, name=\"predictions\")\n",
    "\n",
    "# Calculate mean cross-entropy loss\n",
    "with tf.name_scope(\"cost_function\"):\n",
    "    per_example_losses_ = tf.nn.softmax_cross_entropy_with_logits(logits=logits_, \n",
    "                                                                 labels=y_,\n",
    "                                                                 name=\"per_example_loss\")\n",
    "    loss_ = tf.reduce_mean(per_example_losses_) + l2_reg_lambda * l2_loss\n",
    "\n",
    "# Accuracy\n",
    "with tf.name_scope(\"accuracy\"):\n",
    "    correct_predictions_ = tf.equal(predictions_, tf.argmax(y_, 1))\n",
    "    accuracy_ = tf.reduce_mean(tf.cast(correct_predictions_, \"float\"), name=\"accuracy\")\n",
    "    \n",
    "with tf.name_scope(\"Training\"):\n",
    "    alpha_ = tf.placeholder(tf.float32, name=\"learning_rate\")\n",
    "    optimizer_ = tf.train.AdagradOptimizer(alpha_)\n",
    "    #optimizer_ = tf.train.AdamOptimizer(alpha_)\n",
    "    train_step_ = optimizer_.minimize(loss_)\n",
    "    \n",
    "# Initializer step\n",
    "init_ = tf.global_variables_initializer()"
   ]
  },
  {
   "cell_type": "markdown",
   "metadata": {},
   "source": [
    "### Training"
   ]
  },
  {
   "cell_type": "code",
   "execution_count": 16,
   "metadata": {
    "collapsed": true
   },
   "outputs": [],
   "source": [
    "# Helper functions for training\n",
    "def train_batch(session, batch, alpha):\n",
    "    # Feed last column as targets\n",
    "    feed_dict = {x_:train_docs_ids,\n",
    "                 y_:train_labels_oh,\n",
    "                 alpha_:alpha}\n",
    "    c, a, pred, _ = session.run([loss_, accuracy_, predictions_, train_step_],\n",
    "                       feed_dict=feed_dict)\n",
    "    return c, a, pred\n",
    "\n",
    "def batch_generator(data, batch_size):\n",
    "    \"\"\"Generate minibatches from data.\"\"\"\n",
    "    for i in xrange(0, len(data), batch_size):\n",
    "        yield data[i:i+batch_size]"
   ]
  },
  {
   "cell_type": "code",
   "execution_count": 27,
   "metadata": {
    "collapsed": false,
    "scrolled": false
   },
   "outputs": [
    {
     "name": "stdout",
     "output_type": "stream",
     "text": [
      "\n",
      "[epoch 1] seen 0 minibatches\n",
      "[epoch 1] Completed 36 minibatches in 0:00:00\n",
      "[epoch 1] Average cost: 4.662\n",
      "[epoch 1] Accuracy 0.806\n",
      "[epoch 1] Classificaiton Report\n",
      "\n",
      "             precision    recall  f1-score   support\n",
      "\n",
      "          0       0.78      0.77      0.78       773\n",
      "          1       0.70      0.77      0.73       774\n",
      "          2       0.81      0.83      0.82       784\n",
      "          3       0.90      0.84      0.87       794\n",
      "          4       0.89      0.83      0.86       503\n",
      "\n",
      "avg / total       0.81      0.81      0.81      3628\n",
      "\n",
      "\n",
      "[epoch 2] seen 0 minibatches\n",
      "[epoch 2] Completed 36 minibatches in 0:00:00\n",
      "[epoch 2] Average cost: 0.520\n",
      "[epoch 2] Accuracy 0.852\n",
      "[epoch 2] Classificaiton Report\n",
      "\n",
      "             precision    recall  f1-score   support\n",
      "\n",
      "          0       0.85      0.83      0.84       773\n",
      "          1       0.75      0.84      0.80       774\n",
      "          2       0.87      0.86      0.86       784\n",
      "          3       0.90      0.88      0.89       794\n",
      "          4       0.92      0.86      0.89       503\n",
      "\n",
      "avg / total       0.86      0.85      0.85      3628\n",
      "\n",
      "\n",
      "[epoch 3] seen 0 minibatches\n",
      "[epoch 3] Completed 36 minibatches in 0:00:00\n",
      "[epoch 3] Average cost: 0.408\n",
      "[epoch 3] Accuracy 0.874\n",
      "[epoch 3] Classificaiton Report\n",
      "\n",
      "             precision    recall  f1-score   support\n",
      "\n",
      "          0       0.88      0.85      0.87       773\n",
      "          1       0.78      0.87      0.82       774\n",
      "          2       0.89      0.88      0.89       784\n",
      "          3       0.92      0.89      0.90       794\n",
      "          4       0.93      0.89      0.91       503\n",
      "\n",
      "avg / total       0.88      0.87      0.87      3628\n",
      "\n",
      "\n",
      "[epoch 4] seen 0 minibatches\n",
      "[epoch 4] Completed 36 minibatches in 0:00:00\n",
      "[epoch 4] Average cost: 0.346\n",
      "[epoch 4] Accuracy 0.889\n",
      "[epoch 4] Classificaiton Report\n",
      "\n",
      "             precision    recall  f1-score   support\n",
      "\n",
      "          0       0.90      0.86      0.88       773\n",
      "          1       0.79      0.90      0.84       774\n",
      "          2       0.91      0.89      0.90       784\n",
      "          3       0.92      0.90      0.91       794\n",
      "          4       0.95      0.90      0.92       503\n",
      "\n",
      "avg / total       0.89      0.89      0.89      3628\n",
      "\n",
      "\n",
      "[epoch 5] seen 0 minibatches\n",
      "[epoch 5] Completed 36 minibatches in 0:00:00\n",
      "[epoch 5] Average cost: 0.307\n",
      "[epoch 5] Accuracy 0.903\n",
      "[epoch 5] Classificaiton Report\n",
      "\n",
      "             precision    recall  f1-score   support\n",
      "\n",
      "          0       0.91      0.88      0.90       773\n",
      "          1       0.81      0.91      0.86       774\n",
      "          2       0.92      0.91      0.91       784\n",
      "          3       0.94      0.91      0.93       794\n",
      "          4       0.95      0.91      0.93       503\n",
      "\n",
      "avg / total       0.91      0.90      0.90      3628\n",
      "\n",
      "\n",
      "[epoch 6] seen 0 minibatches\n",
      "[epoch 6] Completed 36 minibatches in 0:00:00\n",
      "[epoch 6] Average cost: 0.280\n",
      "[epoch 6] Accuracy 0.913\n",
      "[epoch 6] Classificaiton Report\n",
      "\n",
      "             precision    recall  f1-score   support\n",
      "\n",
      "          0       0.93      0.89      0.91       773\n",
      "          1       0.82      0.92      0.87       774\n",
      "          2       0.93      0.91      0.92       784\n",
      "          3       0.95      0.92      0.93       794\n",
      "          4       0.95      0.92      0.94       503\n",
      "\n",
      "avg / total       0.92      0.91      0.91      3628\n",
      "\n",
      "\n",
      "[epoch 7] seen 0 minibatches\n",
      "[epoch 7] Completed 36 minibatches in 0:00:00\n",
      "[epoch 7] Average cost: 0.260\n",
      "[epoch 7] Accuracy 0.920\n",
      "[epoch 7] Classificaiton Report\n",
      "\n",
      "             precision    recall  f1-score   support\n",
      "\n",
      "          0       0.94      0.90      0.92       773\n",
      "          1       0.83      0.93      0.88       774\n",
      "          2       0.94      0.92      0.93       784\n",
      "          3       0.96      0.92      0.94       794\n",
      "          4       0.96      0.93      0.94       503\n",
      "\n",
      "avg / total       0.92      0.92      0.92      3628\n",
      "\n",
      "\n",
      "[epoch 8] seen 0 minibatches\n",
      "[epoch 8] Completed 36 minibatches in 0:00:00\n",
      "[epoch 8] Average cost: 0.244\n",
      "[epoch 8] Accuracy 0.924\n",
      "[epoch 8] Classificaiton Report\n",
      "\n",
      "             precision    recall  f1-score   support\n",
      "\n",
      "          0       0.94      0.91      0.92       773\n",
      "          1       0.83      0.94      0.88       774\n",
      "          2       0.95      0.92      0.93       784\n",
      "          3       0.96      0.93      0.94       794\n",
      "          4       0.96      0.92      0.94       503\n",
      "\n",
      "avg / total       0.93      0.92      0.92      3628\n",
      "\n",
      "\n",
      "[epoch 9] seen 0 minibatches\n",
      "[epoch 9] Completed 36 minibatches in 0:00:00\n",
      "[epoch 9] Average cost: 0.230\n",
      "[epoch 9] Accuracy 0.929\n",
      "[epoch 9] Classificaiton Report\n",
      "\n",
      "             precision    recall  f1-score   support\n",
      "\n",
      "          0       0.95      0.91      0.93       773\n",
      "          1       0.84      0.94      0.89       774\n",
      "          2       0.95      0.92      0.94       784\n",
      "          3       0.97      0.93      0.95       794\n",
      "          4       0.96      0.94      0.95       503\n",
      "\n",
      "avg / total       0.93      0.93      0.93      3628\n",
      "\n",
      "\n",
      "[epoch 10] seen 0 minibatches\n",
      "[epoch 10] Completed 36 minibatches in 0:00:00\n",
      "[epoch 10] Average cost: 0.219\n",
      "[epoch 10] Accuracy 0.932\n",
      "[epoch 10] Classificaiton Report\n",
      "\n",
      "             precision    recall  f1-score   support\n",
      "\n",
      "          0       0.96      0.92      0.94       773\n",
      "          1       0.85      0.95      0.90       774\n",
      "          2       0.96      0.93      0.94       784\n",
      "          3       0.96      0.93      0.95       794\n",
      "          4       0.96      0.93      0.95       503\n",
      "\n",
      "avg / total       0.94      0.93      0.93      3628\n",
      "\n",
      "\n",
      "[epoch 11] seen 0 minibatches\n",
      "[epoch 11] Completed 36 minibatches in 0:00:00\n",
      "[epoch 11] Average cost: 0.209\n",
      "[epoch 11] Accuracy 0.935\n",
      "[epoch 11] Classificaiton Report\n",
      "\n",
      "             precision    recall  f1-score   support\n",
      "\n",
      "          0       0.96      0.92      0.94       773\n",
      "          1       0.85      0.95      0.90       774\n",
      "          2       0.96      0.93      0.94       784\n",
      "          3       0.97      0.93      0.95       794\n",
      "          4       0.96      0.94      0.95       503\n",
      "\n",
      "avg / total       0.94      0.94      0.94      3628\n",
      "\n",
      "\n",
      "[epoch 12] seen 0 minibatches\n",
      "[epoch 12] Completed 36 minibatches in 0:00:00\n",
      "[epoch 12] Average cost: 0.201\n",
      "[epoch 12] Accuracy 0.937\n",
      "[epoch 12] Classificaiton Report\n",
      "\n",
      "             precision    recall  f1-score   support\n",
      "\n",
      "          0       0.96      0.92      0.94       773\n",
      "          1       0.85      0.96      0.90       774\n",
      "          2       0.96      0.93      0.95       784\n",
      "          3       0.97      0.94      0.95       794\n",
      "          4       0.96      0.93      0.95       503\n",
      "\n",
      "avg / total       0.94      0.94      0.94      3628\n",
      "\n",
      "\n",
      "[epoch 13] seen 0 minibatches\n",
      "[epoch 13] Completed 36 minibatches in 0:00:00\n",
      "[epoch 13] Average cost: 0.194\n",
      "[epoch 13] Accuracy 0.939\n",
      "[epoch 13] Classificaiton Report\n",
      "\n",
      "             precision    recall  f1-score   support\n",
      "\n",
      "          0       0.96      0.93      0.94       773\n",
      "          1       0.86      0.96      0.91       774\n",
      "          2       0.96      0.94      0.95       784\n",
      "          3       0.97      0.93      0.95       794\n",
      "          4       0.96      0.94      0.95       503\n",
      "\n",
      "avg / total       0.94      0.94      0.94      3628\n",
      "\n",
      "\n",
      "[epoch 14] seen 0 minibatches\n",
      "[epoch 14] Completed 36 minibatches in 0:00:00\n",
      "[epoch 14] Average cost: 0.187\n",
      "[epoch 14] Accuracy 0.941\n",
      "[epoch 14] Classificaiton Report\n",
      "\n",
      "             precision    recall  f1-score   support\n",
      "\n",
      "          0       0.97      0.93      0.95       773\n",
      "          1       0.86      0.96      0.91       774\n",
      "          2       0.96      0.94      0.95       784\n",
      "          3       0.97      0.94      0.95       794\n",
      "          4       0.97      0.94      0.95       503\n",
      "\n",
      "avg / total       0.94      0.94      0.94      3628\n",
      "\n",
      "\n",
      "[epoch 15] seen 0 minibatches\n",
      "[epoch 15] Completed 36 minibatches in 0:00:00\n",
      "[epoch 15] Average cost: 0.181\n",
      "[epoch 15] Accuracy 0.942\n",
      "[epoch 15] Classificaiton Report\n",
      "\n",
      "             precision    recall  f1-score   support\n",
      "\n",
      "          0       0.97      0.93      0.95       773\n",
      "          1       0.86      0.96      0.91       774\n",
      "          2       0.97      0.94      0.95       784\n",
      "          3       0.97      0.94      0.95       794\n",
      "          4       0.97      0.94      0.95       503\n",
      "\n",
      "avg / total       0.95      0.94      0.94      3628\n",
      "\n",
      "\n",
      "[epoch 16] seen 0 minibatches\n",
      "[epoch 16] Completed 36 minibatches in 0:00:00\n",
      "[epoch 16] Average cost: 0.175\n",
      "[epoch 16] Accuracy 0.944\n",
      "[epoch 16] Classificaiton Report\n",
      "\n",
      "             precision    recall  f1-score   support\n",
      "\n",
      "          0       0.97      0.93      0.95       773\n",
      "          1       0.86      0.96      0.91       774\n",
      "          2       0.97      0.94      0.96       784\n",
      "          3       0.97      0.94      0.95       794\n",
      "          4       0.97      0.94      0.95       503\n",
      "\n",
      "avg / total       0.95      0.94      0.94      3628\n",
      "\n",
      "\n",
      "[epoch 17] seen 0 minibatches\n",
      "[epoch 17] Completed 36 minibatches in 0:00:00\n",
      "[epoch 17] Average cost: 0.170\n",
      "[epoch 17] Accuracy 0.945\n",
      "[epoch 17] Classificaiton Report\n",
      "\n",
      "             precision    recall  f1-score   support\n",
      "\n",
      "          0       0.97      0.93      0.95       773\n",
      "          1       0.87      0.97      0.91       774\n",
      "          2       0.97      0.94      0.95       784\n",
      "          3       0.98      0.94      0.96       794\n",
      "          4       0.96      0.94      0.95       503\n",
      "\n",
      "avg / total       0.95      0.94      0.95      3628\n",
      "\n",
      "\n",
      "[epoch 18] seen 0 minibatches\n",
      "[epoch 18] Completed 36 minibatches in 0:00:00\n",
      "[epoch 18] Average cost: 0.165\n",
      "[epoch 18] Accuracy 0.948\n",
      "[epoch 18] Classificaiton Report\n",
      "\n",
      "             precision    recall  f1-score   support\n",
      "\n",
      "          0       0.97      0.94      0.95       773\n",
      "          1       0.87      0.97      0.92       774\n",
      "          2       0.97      0.94      0.96       784\n",
      "          3       0.97      0.95      0.96       794\n",
      "          4       0.97      0.94      0.96       503\n",
      "\n",
      "avg / total       0.95      0.95      0.95      3628\n",
      "\n",
      "\n",
      "[epoch 19] seen 0 minibatches\n",
      "[epoch 19] Completed 36 minibatches in 0:00:00\n",
      "[epoch 19] Average cost: 0.161\n",
      "[epoch 19] Accuracy 0.949\n",
      "[epoch 19] Classificaiton Report\n",
      "\n",
      "             precision    recall  f1-score   support\n",
      "\n",
      "          0       0.97      0.94      0.96       773\n",
      "          1       0.87      0.97      0.92       774\n",
      "          2       0.97      0.94      0.96       784\n",
      "          3       0.98      0.95      0.96       794\n",
      "          4       0.96      0.94      0.95       503\n",
      "\n",
      "avg / total       0.95      0.95      0.95      3628\n",
      "\n",
      "\n",
      "[epoch 20] seen 0 minibatches\n",
      "[epoch 20] Completed 36 minibatches in 0:00:00\n",
      "[epoch 20] Average cost: 0.157\n",
      "[epoch 20] Accuracy 0.950\n",
      "[epoch 20] Classificaiton Report\n",
      "\n",
      "             precision    recall  f1-score   support\n",
      "\n",
      "          0       0.98      0.94      0.96       773\n",
      "          1       0.87      0.97      0.92       774\n",
      "          2       0.97      0.94      0.96       784\n",
      "          3       0.98      0.95      0.96       794\n",
      "          4       0.98      0.94      0.96       503\n",
      "\n",
      "avg / total       0.95      0.95      0.95      3628\n",
      "\n",
      "\n",
      "[epoch 21] seen 0 minibatches\n",
      "[epoch 21] Completed 36 minibatches in 0:00:00\n",
      "[epoch 21] Average cost: 0.153\n",
      "[epoch 21] Accuracy 0.951\n",
      "[epoch 21] Classificaiton Report\n",
      "\n",
      "             precision    recall  f1-score   support\n",
      "\n",
      "          0       0.98      0.94      0.96       773\n",
      "          1       0.87      0.97      0.92       774\n",
      "          2       0.97      0.95      0.96       784\n",
      "          3       0.98      0.95      0.96       794\n",
      "          4       0.97      0.94      0.96       503\n",
      "\n",
      "avg / total       0.95      0.95      0.95      3628\n",
      "\n",
      "\n",
      "[epoch 22] seen 0 minibatches\n",
      "[epoch 22] Completed 36 minibatches in 0:00:00\n",
      "[epoch 22] Average cost: 0.149\n",
      "[epoch 22] Accuracy 0.953\n",
      "[epoch 22] Classificaiton Report\n",
      "\n",
      "             precision    recall  f1-score   support\n",
      "\n",
      "          0       0.98      0.94      0.96       773\n",
      "          1       0.88      0.98      0.92       774\n",
      "          2       0.98      0.95      0.96       784\n",
      "          3       0.97      0.95      0.96       794\n",
      "          4       0.98      0.94      0.96       503\n",
      "\n",
      "avg / total       0.96      0.95      0.95      3628\n",
      "\n",
      "\n",
      "[epoch 23] seen 0 minibatches\n",
      "[epoch 23] Completed 36 minibatches in 0:00:00\n",
      "[epoch 23] Average cost: 0.146\n",
      "[epoch 23] Accuracy 0.953\n",
      "[epoch 23] Classificaiton Report\n",
      "\n",
      "             precision    recall  f1-score   support\n",
      "\n",
      "          0       0.98      0.95      0.96       773\n",
      "          1       0.88      0.97      0.92       774\n",
      "          2       0.97      0.95      0.96       784\n",
      "          3       0.98      0.95      0.96       794\n",
      "          4       0.97      0.94      0.96       503\n",
      "\n",
      "avg / total       0.96      0.95      0.95      3628\n",
      "\n",
      "\n",
      "[epoch 24] seen 0 minibatches\n",
      "[epoch 24] Completed 36 minibatches in 0:00:00\n",
      "[epoch 24] Average cost: 0.142\n",
      "[epoch 24] Accuracy 0.956\n",
      "[epoch 24] Classificaiton Report\n",
      "\n",
      "             precision    recall  f1-score   support\n",
      "\n",
      "          0       0.98      0.95      0.97       773\n",
      "          1       0.89      0.98      0.93       774\n",
      "          2       0.98      0.95      0.96       784\n",
      "          3       0.97      0.96      0.96       794\n",
      "          4       0.98      0.94      0.96       503\n",
      "\n",
      "avg / total       0.96      0.96      0.96      3628\n",
      "\n",
      "\n",
      "[epoch 25] seen 0 minibatches\n",
      "[epoch 25] Completed 36 minibatches in 0:00:00\n",
      "[epoch 25] Average cost: 0.139\n",
      "[epoch 25] Accuracy 0.956\n",
      "[epoch 25] Classificaiton Report\n",
      "\n",
      "             precision    recall  f1-score   support\n",
      "\n",
      "          0       0.98      0.95      0.97       773\n",
      "          1       0.89      0.98      0.93       774\n",
      "          2       0.97      0.95      0.96       784\n",
      "          3       0.98      0.95      0.96       794\n",
      "          4       0.98      0.95      0.96       503\n",
      "\n",
      "avg / total       0.96      0.96      0.96      3628\n",
      "\n",
      "\n",
      "[epoch 26] seen 0 minibatches\n",
      "[epoch 26] Completed 36 minibatches in 0:00:00\n",
      "[epoch 26] Average cost: 0.137\n",
      "[epoch 26] Accuracy 0.958\n",
      "[epoch 26] Classificaiton Report\n",
      "\n",
      "             precision    recall  f1-score   support\n",
      "\n",
      "          0       0.98      0.95      0.97       773\n",
      "          1       0.89      0.98      0.93       774\n",
      "          2       0.98      0.95      0.97       784\n",
      "          3       0.97      0.96      0.96       794\n",
      "          4       0.99      0.94      0.96       503\n",
      "\n",
      "avg / total       0.96      0.96      0.96      3628\n",
      "\n",
      "\n",
      "[epoch 27] seen 0 minibatches\n",
      "[epoch 27] Completed 36 minibatches in 0:00:00\n",
      "[epoch 27] Average cost: 0.134\n",
      "[epoch 27] Accuracy 0.959\n",
      "[epoch 27] Classificaiton Report\n",
      "\n",
      "             precision    recall  f1-score   support\n",
      "\n",
      "          0       0.98      0.95      0.97       773\n",
      "          1       0.90      0.98      0.94       774\n",
      "          2       0.98      0.95      0.96       784\n",
      "          3       0.97      0.96      0.97       794\n",
      "          4       0.98      0.95      0.96       503\n",
      "\n",
      "avg / total       0.96      0.96      0.96      3628\n",
      "\n",
      "\n",
      "[epoch 28] seen 0 minibatches\n",
      "[epoch 28] Completed 36 minibatches in 0:00:00\n",
      "[epoch 28] Average cost: 0.132\n",
      "[epoch 28] Accuracy 0.960\n",
      "[epoch 28] Classificaiton Report\n",
      "\n",
      "             precision    recall  f1-score   support\n",
      "\n",
      "          0       0.98      0.95      0.97       773\n",
      "          1       0.90      0.98      0.94       774\n",
      "          2       0.98      0.95      0.97       784\n",
      "          3       0.97      0.96      0.97       794\n",
      "          4       0.99      0.94      0.96       503\n",
      "\n",
      "avg / total       0.96      0.96      0.96      3628\n",
      "\n",
      "\n",
      "[epoch 29] seen 0 minibatches\n",
      "[epoch 29] Completed 36 minibatches in 0:00:00\n",
      "[epoch 29] Average cost: 0.129\n",
      "[epoch 29] Accuracy 0.961\n",
      "[epoch 29] Classificaiton Report\n",
      "\n",
      "             precision    recall  f1-score   support\n",
      "\n",
      "          0       0.98      0.96      0.97       773\n",
      "          1       0.90      0.98      0.94       774\n",
      "          2       0.98      0.95      0.97       784\n",
      "          3       0.97      0.96      0.97       794\n",
      "          4       0.98      0.95      0.96       503\n",
      "\n",
      "avg / total       0.96      0.96      0.96      3628\n",
      "\n",
      "\n",
      "[epoch 30] seen 0 minibatches\n",
      "[epoch 30] Completed 36 minibatches in 0:00:00\n",
      "[epoch 30] Average cost: 0.127\n",
      "[epoch 30] Accuracy 0.961\n",
      "[epoch 30] Classificaiton Report\n",
      "\n",
      "             precision    recall  f1-score   support\n",
      "\n",
      "          0       0.98      0.96      0.97       773\n",
      "          1       0.90      0.99      0.94       774\n",
      "          2       0.99      0.95      0.97       784\n",
      "          3       0.97      0.96      0.97       794\n",
      "          4       0.99      0.94      0.96       503\n",
      "\n",
      "avg / total       0.96      0.96      0.96      3628\n",
      "\n"
     ]
    }
   ],
   "source": [
    "from shared_lib import utils\n",
    "# One epoch = one pass through the training data\n",
    "num_epochs = 30\n",
    "batch_size = 100\n",
    "alpha = 0.5  # learning rate\n",
    "print_every = 100\n",
    "\n",
    "np.random.seed(42)\n",
    "\n",
    "session = tf.Session()\n",
    "session.run(init_)\n",
    "\n",
    "t0 = time.time()\n",
    "for epoch in xrange(1,num_epochs+1):\n",
    "    t0_epoch = time.time()\n",
    "    epoch_cost = 0.0\n",
    "    total_batches = 0\n",
    "    print \"\"\n",
    "    for i, batch in enumerate(batch_generator(train_docs_ids, batch_size)):\n",
    "        if (i % print_every == 0):\n",
    "            print \"[epoch %d] seen %d minibatches\" % (epoch, i)\n",
    "        \n",
    "        cost, accuracy, pred = train_batch(session, batch, alpha)\n",
    "        epoch_cost += cost\n",
    "        total_batches = i + 1\n",
    "\n",
    "    avg_cost = epoch_cost / total_batches\n",
    "    print \"[epoch %d] Completed %d minibatches in %s\" % (epoch, i, utils.pretty_timedelta(since=t0_epoch))\n",
    "    print \"[epoch %d] Average cost: %.03f\" % (epoch, avg_cost,)\n",
    "    print \"[epoch %d] Accuracy %.03f\" %(epoch, accuracy)\n",
    "    print \"[epoch %d] Classificaiton Report\\n\" %(epoch)\n",
    "    print classification_report(train_labels, pred)"
   ]
  },
  {
   "cell_type": "markdown",
   "metadata": {},
   "source": [
    "### Evaluation"
   ]
  },
  {
   "cell_type": "code",
   "execution_count": 28,
   "metadata": {
    "collapsed": false
   },
   "outputs": [],
   "source": [
    "def predict_batch(session):\n",
    "    feed_dict = {x_:test_docs_ids,\n",
    "                 y_:test_labels_oh}\n",
    "    a, pred = session.run([accuracy_, predictions_], feed_dict=feed_dict)\n",
    "    return a, pred\n",
    "\n",
    "accuracy, pred = predict_batch(session)"
   ]
  },
  {
   "cell_type": "code",
   "execution_count": 29,
   "metadata": {
    "collapsed": false,
    "scrolled": true
   },
   "outputs": [
    {
     "name": "stdout",
     "output_type": "stream",
     "text": [
      "Test Accuracy is 0.753\n"
     ]
    }
   ],
   "source": [
    "print \"Test Accuracy is %.03f\" %(accuracy)"
   ]
  },
  {
   "cell_type": "code",
   "execution_count": 30,
   "metadata": {
    "collapsed": false
   },
   "outputs": [
    {
     "name": "stdout",
     "output_type": "stream",
     "text": [
      "             precision    recall  f1-score   support\n",
      "\n",
      "          0       0.71      0.72      0.71       200\n",
      "          1       0.71      0.73      0.72       211\n",
      "          2       0.75      0.74      0.74       179\n",
      "          3       0.81      0.81      0.81       193\n",
      "          4       0.83      0.78      0.81       125\n",
      "\n",
      "avg / total       0.75      0.75      0.75       908\n",
      "\n"
     ]
    }
   ],
   "source": [
    "print classification_report(test_labels, pred)"
   ]
  },
  {
   "cell_type": "markdown",
   "metadata": {},
   "source": [
    "# 3. Open Classificaiton Method 1 (1-vs-Rest)"
   ]
  },
  {
   "cell_type": "code",
   "execution_count": 31,
   "metadata": {
    "collapsed": false
   },
   "outputs": [
    {
     "name": "stdout",
     "output_type": "stream",
     "text": [
      "[  1.00000000e-10   1.29154967e-09   1.66810054e-08   2.15443469e-07\n",
      "   2.78255940e-06   3.59381366e-05   4.64158883e-04   5.99484250e-03\n",
      "   7.74263683e-02   1.00000000e+00]\n"
     ]
    }
   ],
   "source": [
    "print np.logspace(-10, 0, 10)\n",
    "missing_class = 1"
   ]
  },
  {
   "cell_type": "markdown",
   "metadata": {},
   "source": [
    "## Fit 1vs Rest and Choose best model parameters"
   ]
  },
  {
   "cell_type": "code",
   "execution_count": 45,
   "metadata": {
    "collapsed": false
   },
   "outputs": [
    {
     "name": "stdout",
     "output_type": "stream",
     "text": [
      "Fitting 3 folds for each of 112 candidates, totalling 336 fits\n",
      "0.716747289054\n",
      "{'estimator__kernel': 'rbf', 'estimator__C': 5, 'estimator__degree': 1}\n"
     ]
    },
    {
     "name": "stderr",
     "output_type": "stream",
     "text": [
      "[Parallel(n_jobs=1)]: Done 336 out of 336 | elapsed:   33.5s finished\n"
     ]
    }
   ],
   "source": [
    "from sklearn.ensemble import RandomForestClassifier, GradientBoostingClassifier\n",
    "from sklearn.multiclass import OneVsRestClassifier\n",
    "from sklearn.linear_model import LogisticRegression\n",
    "from sklearn.calibration import CalibratedClassifierCV\n",
    "from sklearn.svm import SVC\n",
    "from sklearn.metrics import f1_score\n",
    "\n",
    "train_vectors = extract_vectors(dm_model,train_docs)\n",
    "test_vectors = extract_vectors(dm_model,test_docs)\n",
    "\n",
    "# Define a missing class\n",
    "missing_class = 0\n",
    "missing_class_idx = np.where(train_labels == missing_class)[0]\n",
    "train_new_vectors = [train_vectors[i] for i in range(len(train_vectors)) if i not in missing_class_idx]\n",
    "train_new_labels = [train_labels[i] for i in range(len(train_labels)) if i not in missing_class_idx]\n",
    "\n",
    "train_valid_cut = int(len(train_vectors)*.75)\n",
    "train_final_vectors = train_new_vectors[:train_valid_cut]\n",
    "train_final_labels = train_new_labels[:train_valid_cut]\n",
    "\n",
    "valid_final_vectors=train_new_vectors[train_valid_cut:]\n",
    "valid_final_labels = train_new_labels[train_valid_cut:]\n",
    "\n",
    "clf = OneVsRestClassifier(SVC(probability=True))\n",
    "clf.fit(train_final_vectors, train_final_labels)\n",
    "\n",
    "parameters = {\n",
    "    \"estimator__C\": [0.001,0.01,0.1,0.5,1,2,5],\n",
    "    \"estimator__kernel\": [\"poly\",\"rbf\", \"sigmoid\",\"linear\"],\n",
    "    \"estimator__degree\":[1, 2, 3, 4],\n",
    "}\n",
    "\n",
    "#scores = ['precision', 'recall']\n",
    "\n",
    "\n",
    "mod = GridSearchCV(estimator=clf,param_grid=parameters,scoring='f1_macro', verbose=True)\n",
    "mod.fit(valid_final_vectors, valid_final_labels)\n",
    "print mod.best_score_ \n",
    "print mod.best_params_"
   ]
  },
  {
   "cell_type": "code",
   "execution_count": 46,
   "metadata": {
    "collapsed": false
   },
   "outputs": [
    {
     "name": "stdout",
     "output_type": "stream",
     "text": [
      "[1 2 3 4]\n"
     ]
    }
   ],
   "source": [
    "print np.unique(train_final_labels)"
   ]
  },
  {
   "cell_type": "markdown",
   "metadata": {},
   "source": [
    "## Fit 1vsRest with best params and Scale probabilities"
   ]
  },
  {
   "cell_type": "code",
   "execution_count": 47,
   "metadata": {
    "collapsed": true
   },
   "outputs": [],
   "source": [
    "\n",
    "clf = OneVsRestClassifier(SVC(probability=True, kernel=mod.best_params_['estimator__kernel'], C=mod.best_params_['estimator__C'], degree=mod.best_params_['estimator__degree']))\n",
    "clf.fit(train_final_vectors, train_final_labels)\n",
    "\n",
    "sig_clf = CalibratedClassifierCV(clf, method=\"isotonic\", cv=\"prefit\")\n",
    "sig_clf.fit(valid_final_vectors, valid_final_labels)\n",
    "sig_clf_probs = sig_clf.predict_proba(test_vectors)\n",
    "\n",
    "clf_probs = clf.predict_proba(test_vectors)\n",
    "\n",
    "class_max_prob_lists = np.array([max(clf_probs[:,val]) for val in range(len(clf_probs[0]))])\n",
    "class_min_prob_lists = np.array([min(clf_probs[:,val]) for val in range(len(clf_probs[0]))])\n",
    "delta = class_max_prob_lists - class_min_prob_lists\n",
    "\n",
    "# Normalized\n",
    "scaled_calib_probs = np.divide(clf_probs,delta)\n"
   ]
  },
  {
   "cell_type": "code",
   "execution_count": 51,
   "metadata": {
    "collapsed": false
   },
   "outputs": [
    {
     "data": {
      "text/plain": [
       "array([[  5.67352861e-02,   4.01602362e-02,   3.94716232e-03,\n",
       "          8.99207996e-01],\n",
       "       [  6.13690944e-07,   7.60474764e-03,   4.95539643e-01,\n",
       "          4.96892748e-01],\n",
       "       [  7.44341897e-03,   3.71008888e-03,   3.05339133e-03,\n",
       "          9.85842637e-01],\n",
       "       [  9.21857335e-02,   9.07181428e-01,   7.11685837e-04,\n",
       "          9.16291170e-06],\n",
       "       [  4.98126726e-01,   2.21661585e-01,   1.53833031e-05,\n",
       "          2.80251246e-01]])"
      ]
     },
     "execution_count": 51,
     "metadata": {},
     "output_type": "execute_result"
    }
   ],
   "source": [
    "scaled_calib_probs[:5]"
   ]
  },
  {
   "cell_type": "code",
   "execution_count": 75,
   "metadata": {
    "collapsed": false
   },
   "outputs": [
    {
     "data": {
      "text/plain": [
       "(773,)"
      ]
     },
     "execution_count": 75,
     "metadata": {},
     "output_type": "execute_result"
    }
   ],
   "source": [
    "missing_class_idx.shape"
   ]
  },
  {
   "cell_type": "code",
   "execution_count": 72,
   "metadata": {
    "collapsed": false
   },
   "outputs": [
    {
     "data": {
      "text/plain": [
       "<matplotlib.text.Text at 0x7f1c08753290>"
      ]
     },
     "execution_count": 72,
     "metadata": {},
     "output_type": "execute_result"
    },
    {
     "data": {
      "image/png": "[encoded data removed]",
      "text/plain": [
       "<matplotlib.figure.Figure at 0x7f1c20744b90>"
      ]
     },
     "metadata": {},
     "output_type": "display_data"
    }
   ],
   "source": [
    "x = np.amax(scaled_calib_probs, axis = 1)\n",
    "plt.figure(figsize = (12, 8))\n",
    "n, bins, patches = plt.hist(x, 50)\n",
    "plt.title(\"max prob dist\")"
   ]
  },
  {
   "cell_type": "markdown",
   "metadata": {},
   "source": [
    "## Check Classification Accuracy on Test Data"
   ]
  },
  {
   "cell_type": "code",
   "execution_count": 223,
   "metadata": {
    "collapsed": false
   },
   "outputs": [
    {
     "name": "stdout",
     "output_type": "stream",
     "text": [
      "[2 3 4 5]\n",
      "[2 3 4 5]\n",
      "             precision    recall  f1-score   support\n",
      "\n",
      "          1       0.00      0.00      0.00       319\n",
      "          2       0.81      0.94      0.87       389\n",
      "          3       0.80      0.93      0.86       397\n",
      "          4       0.84      0.81      0.83       394\n",
      "          5       0.60      0.93      0.73       376\n",
      "\n",
      "avg / total       0.64      0.75      0.68      1875\n",
      "\n",
      "             precision    recall  f1-score   support\n",
      "\n",
      "          1       0.00      0.00      0.00       319\n",
      "          2       0.80      0.93      0.86       389\n",
      "          3       0.79      0.93      0.85       397\n",
      "          4       0.82      0.80      0.81       394\n",
      "          5       0.60      0.91      0.73       376\n",
      "\n",
      "avg / total       0.63      0.74      0.68      1875\n",
      "\n",
      "0.7488\n",
      "0.741866666667\n"
     ]
    }
   ],
   "source": [
    "preds1 = clf.predict(test_vectors)\n",
    "preds2 = sig_clf.predict(test_vectors)\n",
    "print np.unique(preds1)\n",
    "print np.unique(preds2)\n",
    "print classification_report(newsgroups_test.target,preds1)\n",
    "print classification_report(newsgroups_test.target,preds2)\n",
    "print accuracy_score(newsgroups_test.target,preds1)\n",
    "print accuracy_score(newsgroups_test.target,preds2)"
   ]
  },
  {
   "cell_type": "markdown",
   "metadata": {},
   "source": [
    "# Select a Percentile for Probability Threshold for Class Labels"
   ]
  },
  {
   "cell_type": "code",
   "execution_count": 266,
   "metadata": {
    "collapsed": false
   },
   "outputs": [],
   "source": [
    "class_prob_percentile_80 = np.array([np.percentile(scaled_calib_probs[:,val], np.arange(0, 100, 1))[81] for val in range(len(scaled_calib_probs[0]))])\n",
    "test_class_preds = np.greater_equal(scaled_calib_probs,class_prob_percentile_80).astype(int)\n",
    "valid_class_probs = np.multiply(scaled_calib_probs, test_class_preds)\n",
    "valid_class = np.greater_equal(np.ceil(valid_class_probs),1).astype(int)\n",
    "predicted_multinomial = np.multiply(valid_class, np.unique(train_final_labels))\n",
    "predicted_test_class = np.max(predicted_multinomial,axis=1)\n",
    "n=56\n",
    "#print valid_class[n], valid_class_probs[n],predicted_multinomial[n],predicted_test_class[n]\n",
    "unseen_class_indices = np.where(newsgroups_test.target == missing_class)[0]\n",
    "#print unseen_class_indices\n",
    "#print sorted(newsgroups_test.target[unseen_class_indices])\n",
    "#print np.bincount(sorted(newsgroups_test.target[unseen_class_indices]))\n",
    "#print np.bincount(sorted(np.sum(test_class_preds,axis=1)))"
   ]
  },
  {
   "cell_type": "code",
   "execution_count": 267,
   "metadata": {
    "collapsed": false
   },
   "outputs": [
    {
     "data": {
      "text/plain": [
       "(array([0, 2, 3, 4, 5]), array([2, 3, 4, 5]))"
      ]
     },
     "execution_count": 267,
     "metadata": {},
     "output_type": "execute_result"
    }
   ],
   "source": [
    "np.unique(predicted_test_class),np.unique(train_final_labels)"
   ]
  },
  {
   "cell_type": "markdown",
   "metadata": {},
   "source": [
    "# F1 Score/Precision/Recall with Unseen Class"
   ]
  },
  {
   "cell_type": "code",
   "execution_count": 268,
   "metadata": {
    "collapsed": false
   },
   "outputs": [
    {
     "name": "stdout",
     "output_type": "stream",
     "text": [
      "             precision    recall  f1-score   support\n",
      "\n",
      "          0       0.00      0.00      0.00         0\n",
      "          1       0.00      0.00      0.00       319\n",
      "          2       0.91      0.84      0.87       389\n",
      "          3       0.92      0.83      0.87       397\n",
      "          4       0.88      0.80      0.84       394\n",
      "          5       0.73      0.69      0.71       376\n",
      "\n",
      "avg / total       0.71      0.65      0.68      1875\n",
      "\n",
      "0.654933333333\n"
     ]
    }
   ],
   "source": [
    "print classification_report(newsgroups_test.target,predicted_test_class)\n",
    "print accuracy_score(newsgroups_test.target,predicted_test_class)"
   ]
  },
  {
   "cell_type": "markdown",
   "metadata": {},
   "source": [
    "# Unseen Class Predictions"
   ]
  },
  {
   "cell_type": "code",
   "execution_count": 278,
   "metadata": {
    "collapsed": false
   },
   "outputs": [
    {
     "name": "stdout",
     "output_type": "stream",
     "text": [
      "[159   0  15  18  36  91]\n",
      "319\n"
     ]
    }
   ],
   "source": [
    "print np.bincount(sorted(predicted_test_class[unseen_class_indices]))\n",
    "print sum(np.bincount(sorted(predicted_test_class[unseen_class_indices])))"
   ]
  },
  {
   "cell_type": "markdown",
   "metadata": {},
   "source": [
    "# Unseen Class Prediction Accuracy"
   ]
  },
  {
   "cell_type": "code",
   "execution_count": 276,
   "metadata": {
    "collapsed": false
   },
   "outputs": [
    {
     "name": "stdout",
     "output_type": "stream",
     "text": [
      "159.0 319\n",
      "0.498432601881\n"
     ]
    }
   ],
   "source": [
    "print float(np.bincount(sorted(predicted_test_class[unseen_class_indices]))[0]), sum((newsgroups_test.target == missing_class).astype(int))\n",
    "print float(np.bincount(sorted(predicted_test_class[unseen_class_indices]))[0])/sum((newsgroups_test.target == missing_class).astype(int))"
   ]
  },
  {
   "cell_type": "markdown",
   "metadata": {},
   "source": [
    "## Old stuff"
   ]
  },
  {
   "cell_type": "code",
   "execution_count": 74,
   "metadata": {
    "collapsed": true
   },
   "outputs": [],
   "source": [
    "%matplotlib inline\n",
    "import numpy as np\n",
    "import pandas as pd\n",
    "from scipy import stats, integrate\n",
    "import matplotlib.pyplot as plt\n",
    "import seaborn as sns\n",
    "import matplotlib.pyplot as plt"
   ]
  },
  {
   "cell_type": "code",
   "execution_count": 75,
   "metadata": {
    "collapsed": false
   },
   "outputs": [
    {
     "data": {
      "image/png": "[encoded data removed]",
      "text/plain": [
       "<matplotlib.figure.Figure at 0x7f3711d2e590>"
      ]
     },
     "metadata": {},
     "output_type": "display_data"
    }
   ],
   "source": [
    "fig = plt.figure(figsize=(20, 40)) \n",
    "\n",
    "for idx in range(19):\n",
    "    ax = fig.add_subplot(10, 2, idx+1)\n",
    "    ax.hist(scaled_calib_probs[:,idx], bins=20)\n",
    "    txt = \"Class\"+str(idx+1)\n",
    "    ax.set_title(label=txt)   "
   ]
  },
  {
   "cell_type": "code",
   "execution_count": 76,
   "metadata": {
    "collapsed": false
   },
   "outputs": [
    {
     "data": {
      "image/png": "[encoded data removed]",
      "text/plain": [
       "<matplotlib.figure.Figure at 0x7f3712dda710>"
      ]
     },
     "metadata": {},
     "output_type": "display_data"
    }
   ],
   "source": [
    "fig = plt.figure(figsize=(20, 40)) \n",
    "\n",
    "for idx in range(19):\n",
    "    ax = fig.add_subplot(10, 2, idx+1)\n",
    "    ax.hist(sig_clf_probs[:,idx], bins=20)\n",
    "    txt = \"Class\"+str(idx+1)\n",
    "    ax.set_title(label=txt)  "
   ]
  }
 ],
 "metadata": {
  "kernelspec": {
   "display_name": "Python 2",
   "language": "python",
   "name": "python2"
  },
  "language_info": {
   "codemirror_mode": {
    "name": "ipython",
    "version": 2
   },
   "file_extension": ".py",
   "mimetype": "text/x-python",
   "name": "python",
   "nbconvert_exporter": "python",
   "pygments_lexer": "ipython2",
   "version": "2.7.13"
  }
 },
 "nbformat": 4,
 "nbformat_minor": 2
}
