{
 "cells": [
  {
   "cell_type": "markdown",
   "metadata": {},
   "source": [
    "# The Working Book for Text Open Classficiation Project\n",
    "\n",
    "## Project Plan\n",
    "\n",
    "**Main Project Scopes**\n",
    "\n",
    "Build  a CNN text classification model as a base, use open max or 1-vs-rest layer as augment final layer\n",
    "\n",
    "* This implementation will try to mirror the paper\n",
    "* This is a reference mode to compare our exploration of clustering methods\n",
    "    \n",
    "Explore augment method for open classification. Main Method to consider: Clustering method\n",
    "\n",
    "* Intuition: cluster known class (labelled) data into groups or clusters, when a new unknow data comes in, find the distance function of the cluster for the new data and determine whether it belongs to any existing class or too far away from all of the clusters\n",
    "* Variations:\n",
    "    * KNN \n",
    "    * Gaussian mixture model\n",
    "    * Infinite Dirichlet process\n",
    "* Comparing results and report\n",
    "\n",
    "**Data Set**\n",
    "\n",
    "Tentatively we will use newsgroup or news articles as our main dataset for investigation and review. We might consider other dataset if we have time.\n",
    "\n",
    "\n"
   ]
  },
  {
   "cell_type": "markdown",
   "metadata": {},
   "source": [
    "## Model Architecture\n",
    "\n",
    "\n",
    "### Language Model: CNN\n",
    "\n",
    "**Model Structure and Parameters:**\n",
    "\n",
    "* Embedding Layer:\n",
    "\n",
    "    * batch_size: N\n",
    "    * number of class: M\n",
    "    * word embedding dimension: d\n",
    "    * Sentence length: s\n",
    "    * A sentence matrix has size of $s \\times d$\n",
    "    \n",
    "    \n",
    "* CNN Layer\n",
    "\n",
    "    * Tensor flow cnn: _tf.nn.conv2d_\n",
    "    * Region size: h e.g. [3, 4, 5] has 3 regions (***Tensor flow define it as height***)\n",
    "    * Width of the filter: d (***Tensor flow define it as width, usually equal to word embedding dimension***)\n",
    "    * Number of filters per region: f (***This is equalt to number of feature maps for each region size***)\n",
    "    * 1 Max-pooling apply to 1 feature map\n",
    "    \n",
    "    Use the below image as an example\n",
    "    \n",
    "    If we use h = 3 region size [3, 4, 5], width of the filter is d = 5, and 2 filter for each region, we will have 2 feature maps for each regions size and total of 6 feature maps. Max polling will create 6 output vectors. We concatenate to form the feature vector for the output layer. "
   ]
  },
  {
   "cell_type": "markdown",
   "metadata": {},
   "source": [
    "![title](cnn.png)"
   ]
  },
  {
   "cell_type": "markdown",
   "metadata": {},
   "source": [
    "* Output Layer: The DOC paper used 2 fully connected layer convert back to dimension M using $y = W'(ReLU(W \\cdot o + b)) + b'$ where:\n",
    "    * o: feature vector from cnn layer after max-poolling is in $k$\n",
    "    * W: $r \\times k$\n",
    "    * W': $M \\times r$\n",
    "    * y: $M$"
   ]
  },
  {
   "cell_type": "markdown",
   "metadata": {},
   "source": [
    "## Open Classification\n",
    "\n",
    "### Approach to Implement\n",
    "\n",
    "* 1-vs-Rest Layer of DOC (This is the method of reference paper)\n",
    "\n",
    "    * M (number of class) sigmoid function, N (batch_size)\n",
    "    * Objective function for training is $$loss = \\sum_{i=1}^M \\sum_{i=1}^N y_n log(p) + (1 - y_n)log(1 - p(y))$$ is the summation of all log loss (cross-entropy) on the training data.\n",
    "    * At prediction, reject if all predicted probability is less than their threshold t_i, otherwise $argmax(Sigmoid(d))$\n",
    "    * The theshold is determined by using outlier detection. (***We can use a fixed number such as 0.95 to validate our model implementation***)\n",
    "\n",
    "\n",
    "* Clustering Approach (**NEW**)\n",
    "    * KNN\n",
    "    * Gausian Mix Model\n",
    "    * Infinite Dirichlet process"
   ]
  },
  {
   "cell_type": "markdown",
   "metadata": {},
   "source": [
    "## First Iteration\n",
    "\n",
    "### Using simple models to explorer concept of open classification\n",
    "\n",
    "Open classification is a new concept and we will use some simple model to understand how open classification works and how it is different from the traditional supervised learning setting."
   ]
  },
  {
   "cell_type": "code",
   "execution_count": 2,
   "metadata": {},
   "outputs": [
    {
     "name": "stdout",
     "output_type": "stream",
     "text": [
      "[nltk_data] Downloading package stopwords to /home/levi/nltk_data...\n",
      "[nltk_data]   Package stopwords is already up-to-date!\n"
     ]
    },
    {
     "data": {
      "text/plain": [
       "True"
      ]
     },
     "execution_count": 2,
     "metadata": {},
     "output_type": "execute_result"
    }
   ],
   "source": [
    "# This tells matplotlib not to try opening a new window for each plot.\n",
    "%matplotlib inline\n",
    "# General libraries.\n",
    "import re\n",
    "import numpy as np\n",
    "import sys\n",
    "import matplotlib.pyplot as plt\n",
    "import nltk\n",
    "from nltk import RegexpTokenizer\n",
    "from nltk.corpus import stopwords\n",
    "from os import listdir\n",
    "from os.path import isfile, join\n",
    "import os\n",
    "import collections\n",
    "import random\n",
    "from pprint import pprint\n",
    "\n",
    "# SK-learn libraries for learning.\n",
    "from sklearn.pipeline import Pipeline\n",
    "\n",
    "# SK-learn library for importing the newsgroup data.\n",
    "from sklearn.datasets import fetch_20newsgroups\n",
    "\n",
    "# SK-learn libraries for feature extraction from text.\n",
    "from sklearn.feature_extraction.text import *\n",
    "from sklearn.svm import LinearSVC\n",
    "from sklearn import metrics\n",
    "from sklearn import svm\n",
    "from sklearn.preprocessing import LabelEncoder\n",
    "from sklearn.feature_extraction.text import TfidfVectorizer\n",
    "from sklearn.datasets import fetch_20newsgroups\n",
    "from nltk.corpus import stopwords\n",
    "from sklearn.metrics import classification_report\n",
    "\n",
    "nltk.download('stopwords')"
   ]
  },
  {
   "cell_type": "code",
   "execution_count": 19,
   "metadata": {},
   "outputs": [],
   "source": [
    "PROJECT_PATH = '/home/levi/Documents/MIDS/W266/w266_project'\n",
    "PROJECT_DATA = os.path.join(PROJECT_PATH, '/Data_Set/')"
   ]
  },
  {
   "cell_type": "code",
   "execution_count": 4,
   "metadata": {},
   "outputs": [
    {
     "data": {
      "text/plain": [
       "['alt.atheism',\n",
       " 'comp.graphics',\n",
       " 'comp.os.ms-windows.misc',\n",
       " 'comp.sys.ibm.pc.hardware',\n",
       " 'comp.sys.mac.hardware',\n",
       " 'comp.windows.x',\n",
       " 'misc.forsale',\n",
       " 'rec.autos',\n",
       " 'rec.motorcycles',\n",
       " 'rec.sport.baseball',\n",
       " 'rec.sport.hockey',\n",
       " 'sci.crypt',\n",
       " 'sci.electronics',\n",
       " 'sci.med',\n",
       " 'sci.space',\n",
       " 'soc.religion.christian',\n",
       " 'talk.politics.guns',\n",
       " 'talk.politics.mideast',\n",
       " 'talk.politics.misc',\n",
       " 'talk.religion.misc']"
      ]
     },
     "execution_count": 4,
     "metadata": {},
     "output_type": "execute_result"
    }
   ],
   "source": [
    "newsgroups_train = fetch_20newsgroups(subset='train', remove=('headers', 'footers', 'quotes'))\n",
    "newsgroups_test = fetch_20newsgroups(subset='test', remove=('headers', 'footers', 'quotes'))\n",
    "list(newsgroups_train.target_names)"
   ]
  },
  {
   "cell_type": "markdown",
   "metadata": {},
   "source": [
    "### 1. Bag of words model\n",
    "\n",
    "BOW is a first simple document model to be consider. It is commonly used as baseline language model.\n",
    "\n",
    "* Each row is one document\n",
    "* Each column is the 1-hot vector presentation of the document"
   ]
  },
  {
   "cell_type": "markdown",
   "metadata": {},
   "source": [
    "#### Experiment 5 + 1 open classification with BOW model"
   ]
  },
  {
   "cell_type": "code",
   "execution_count": 5,
   "metadata": {},
   "outputs": [],
   "source": [
    "categories = ['alt.atheism', 'sci.space', 'comp.graphics', 'talk.politics.guns', 'rec.autos', 'misc.forsale']\n",
    "newsgroups_train = fetch_20newsgroups(subset='train', remove=('headers', 'footers', 'quotes'),\n",
    "                                     categories=categories)\n",
    "newsgroups_test = fetch_20newsgroups(subset='test', remove=('headers', 'footers', 'quotes'),\n",
    "                                    categories=categories)\n",
    "test_data, test_labels = newsgroups_test.data, newsgroups_test.target\n",
    "train_data, train_labels = newsgroups_train.data, newsgroups_train.target"
   ]
  },
  {
   "cell_type": "markdown",
   "metadata": {},
   "source": [
    "** Remove 1 class from training data, test data has all 6 classes **"
   ]
  },
  {
   "cell_type": "code",
   "execution_count": 6,
   "metadata": {},
   "outputs": [],
   "source": [
    "class5_idx = np.where(train_labels == 5)[0]\n",
    "train_data_open = [train_data[i] for i in range(len(train_data)) if i not in class5_idx]\n",
    "train_labels_open = np.array([train_labels[i] for i in range(len(train_labels)) if i not in class5_idx])"
   ]
  },
  {
   "cell_type": "code",
   "execution_count": 7,
   "metadata": {},
   "outputs": [
    {
     "name": "stdout",
     "output_type": "stream",
     "text": [
      "training open data shape: 2836\n",
      "training open label shape: (2836,)\n",
      "test data shape 2252\n",
      "test label shape: (2252,)\n",
      "labels names: ['alt.atheism', 'comp.graphics', 'misc.forsale', 'rec.autos', 'sci.space', 'talk.politics.guns']\n"
     ]
    }
   ],
   "source": [
    "print 'training open data shape:', len(train_data_open)\n",
    "print 'training open label shape:', train_labels_open.shape\n",
    "print 'test data shape', len(test_data)\n",
    "print 'test label shape:', test_labels.shape\n",
    "print 'labels names:', newsgroups_train.target_names"
   ]
  },
  {
   "cell_type": "code",
   "execution_count": 8,
   "metadata": {},
   "outputs": [],
   "source": [
    "from sklearn.feature_extraction.text import CountVectorizer\n",
    "from scipy.sparse import *\n",
    "from scipy import *\n",
    "\n",
    "# Vectorize the data using sparse matrix\n",
    "# Each column is a doc, each row is BOW vector\n",
    "vectorizer = CountVectorizer()\n",
    "train_words_mat = vectorizer.fit_transform(train_data_open)\n",
    "test_words_mat = vectorizer.transform(test_data)"
   ]
  },
  {
   "cell_type": "code",
   "execution_count": 9,
   "metadata": {},
   "outputs": [
    {
     "name": "stdout",
     "output_type": "stream",
     "text": [
      "Size of BOW Matrix (2836, 30158)\n",
      "Size of test Matrix (2252, 30158)\n",
      "Size of vocabulary:  30158\n",
      "Number of non-zero elements: 237343\n",
      "Training_label Size:  (3382,)\n"
     ]
    }
   ],
   "source": [
    "print \"Size of BOW Matrix\", train_words_mat.shape\n",
    "print \"Size of test Matrix\", test_words_mat.shape\n",
    "print \"Size of vocabulary: \", train_words_mat.shape[1]\n",
    "print \"Number of non-zero elements:\", train_words_mat.nnz\n",
    "print \"Training_label Size: \", train_labels.shape"
   ]
  },
  {
   "cell_type": "markdown",
   "metadata": {},
   "source": [
    "#### Run logistical regression unit test"
   ]
  },
  {
   "cell_type": "code",
   "execution_count": 13,
   "metadata": {},
   "outputs": [
    {
     "name": "stdout",
     "output_type": "stream",
     "text": [
      "C =3381 f1_score = 0.607024  Sum of square weight of each class:  [ 151.33057218  173.61900423  146.29028757  192.79846499  186.30686131]\n"
     ]
    },
    {
     "name": "stderr",
     "output_type": "stream",
     "text": [
      "/home/levi/anaconda3/envs/p2/lib/python2.7/site-packages/sklearn/metrics/classification.py:1135: UndefinedMetricWarning: F-score is ill-defined and being set to 0.0 in labels with no predicted samples.\n",
      "  'precision', 'predicted', average, warn_for)\n"
     ]
    }
   ],
   "source": [
    "from sklearn.linear_model import LogisticRegression\n",
    "\n",
    "logitReg = LogisticRegression(C = 1.0)\n",
    "logitReg.fit(train_words_mat, train_labels_open)\n",
    "pred = logitReg.predict(test_words_mat)\n",
    "pred_prob = logitReg.predict_proba(test_words_mat)\n",
    "coef_logit = logitReg.coef_\n",
    "sum_sq_weight = np.sum(coef_logit**2, axis = 1)\n",
    "\n",
    "f1_score_logit = metrics.f1_score(test_labels, pred, average=\"macro\")\n",
    "print \"C =%2d f1_score = %f \" %(i, metrics.f1_score(test_labels, pred, average=\"macro\")),\n",
    "print \"Sum of square weight of each class: \", sum_sq_weight"
   ]
  },
  {
   "cell_type": "code",
   "execution_count": 14,
   "metadata": {},
   "outputs": [
    {
     "data": {
      "text/plain": [
       "[0, 4, 4, 0, 3, 3, 4, 0, 0, 0]"
      ]
     },
     "execution_count": 14,
     "metadata": {},
     "output_type": "execute_result"
    }
   ],
   "source": [
    "open_class_idx = np.where(test_labels == 5)[0]\n",
    "type(open_class_idx)\n",
    "[pred[i] for i in open_class_idx[:10]]"
   ]
  },
  {
   "cell_type": "markdown",
   "metadata": {},
   "source": [
    "### 2. Word2Vec model"
   ]
  },
  {
   "cell_type": "code",
   "execution_count": 15,
   "metadata": {},
   "outputs": [],
   "source": [
    "# Standard python helper libraries.\n",
    "import os, sys, re, json, time\n",
    "import itertools, collections\n",
    "from IPython.display import display\n",
    "\n",
    "# NumPy and SciPy for matrix ops\n",
    "import numpy as np\n",
    "import scipy.sparse\n",
    "\n",
    "# utils.pretty_print_matrix uses Pandas. Configure float format here.\n",
    "import pandas as pd\n",
    "pd.set_option('float_format', lambda f: \"{0:.04f}\".format(f))\n",
    "\n",
    "# NLTK for NLP utils\n",
    "import nltk\n",
    "\n",
    "# Helper libraries\n",
    "from shared_lib import utils, vocabulary, tf_embed_viz\n",
    "import part2_helpers"
   ]
  },
  {
   "cell_type": "markdown",
   "metadata": {},
   "source": [
    "**Build a corpus from plain text of 20 newsgroup data**\n",
    "\n",
    "* More prepocessing can be added"
   ]
  },
  {
   "cell_type": "code",
   "execution_count": 20,
   "metadata": {},
   "outputs": [
    {
     "name": "stdout",
     "output_type": "stream",
     "text": [
      "20news-bydate-test.txt\n",
      "20news-bydate-train.txt\n"
     ]
    }
   ],
   "source": [
    "from nltk.corpus import PlaintextCorpusReader\n",
    "\n",
    "# RegEx or list of file names\n",
    "data_20newsgroup = PROJECT_DATA + 'total_20news.txt'\n",
    "\n",
    "corpus = PlaintextCorpusReader(PROJECT_PATH+PROJECT_DATA+'/newsgroup_raw/', '.*\\.txt')\n",
    "\n",
    "for infile in sorted(corpus.fileids()):\n",
    "    print infile # The fileids of each file."
   ]
  },
  {
   "cell_type": "markdown",
   "metadata": {},
   "source": [
    "**Create an embedding layer with SVD of dimension = 100**"
   ]
  },
  {
   "cell_type": "code",
   "execution_count": 21,
   "metadata": {},
   "outputs": [],
   "source": [
    "def embeddings_from_text(corpus_in, K=1, d=100):\n",
    "\n",
    "    corpus = corpus_in\n",
    "    vocab = vocabulary.Vocabulary(utils.canonicalize_word(w) for w in utils.flatten(corpus.sents()))\n",
    "    print \"Vocabulary: %d words\" % vocab.size\n",
    "\n",
    "    tokens = part2_helpers.sents_to_tokens(corpus.sents(), vocab)\n",
    "    print \"%g tokens\" % len(tokens)\n",
    "    token_ids = vocab.words_to_ids(tokens)\n",
    "    \n",
    "    ##\n",
    "    # Compute co-occurrence matrix and word vectors\n",
    "    t0 = time.time()\n",
    "    C = part2_helpers.cooccurrence_matrix(token_ids, vocab.size, K=K)\n",
    "    print \"Computed Co-occurrence matrix in %s\" % utils.pretty_timedelta(since=t0); t0 = time.time()\n",
    "    C_ppmi = part2_helpers.PPMI(C)\n",
    "    print \"Computed PPMI in %s\" % utils.pretty_timedelta(since=t0); t0 = time.time()\n",
    "    Wv, _ = part2_helpers.SVD(C_ppmi, d=d)\n",
    "    print \"Computed SVD in %s\" % utils.pretty_timedelta(since=t0)\n",
    "    \n",
    "    return Wv, vocab"
   ]
  },
  {
   "cell_type": "code",
   "execution_count": 22,
   "metadata": {},
   "outputs": [
    {
     "name": "stdout",
     "output_type": "stream",
     "text": [
      "Vocabulary: 184041 words\n",
      "8.69058e+06 tokens\n",
      "Counting pairs (i, i ± 1) ...\n",
      "Co-occurrence matrix: 184041 words x 184041 words\n",
      "  2.7e+06 nonzero elements\n",
      "Computed Co-occurrence matrix in 0:00:03\n",
      "Computed PPMI in 0:00:00\n",
      "Computed SVD in 0:00:09\n"
     ]
    }
   ],
   "source": [
    "Wv_test, vocab_test = embeddings_from_text(corpus, K=1, d=100)"
   ]
  },
  {
   "cell_type": "code",
   "execution_count": 23,
   "metadata": {},
   "outputs": [
    {
     "name": "stdout",
     "output_type": "stream",
     "text": [
      "(184041, 100)\n"
     ]
    }
   ],
   "source": [
    "print Wv_test.shape"
   ]
  },
  {
   "cell_type": "markdown",
   "metadata": {},
   "source": [
    "### 3. TF-IDF model"
   ]
  },
  {
   "cell_type": "code",
   "execution_count": 24,
   "metadata": {},
   "outputs": [],
   "source": [
    "import string\n",
    "from nltk.corpus import stopwords\n",
    "from nltk import word_tokenize\n",
    "from nltk.stem import PorterStemmer\n",
    "import re, string, timeit\n",
    "\n",
    "\n",
    "def preprocessing(text,stem=False, stop=False, sent=False):\n",
    "    # Remove punctuations\n",
    "    #exclude = set(string.punctuation)\n",
    "    #text = ''.join(ch for ch in text if ch not in exclude)\n",
    "    regex = re.compile('[%s]' % re.escape(string.punctuation))\n",
    "    text = regex.sub('', text)\n",
    "    tokens = word_tokenize(text) \n",
    "    if stop:\n",
    "        stop = stopwords.words('english')\n",
    "        tokens =[word for word in tokens if word not in stop]\n",
    "        tokens = [word.lower() for word in tokens]\n",
    "    if stem:\n",
    "        stemmer = PorterStemmer()\n",
    "        tokens = [stemmer.stem(t) for t in tokens]\n",
    "    if sent:\n",
    "        tokens = ' '.join(tokens)\n",
    "    return tokens"
   ]
  },
  {
   "cell_type": "markdown",
   "metadata": {},
   "source": [
    "TF-IDF Model"
   ]
  },
  {
   "cell_type": "code",
   "execution_count": 26,
   "metadata": {},
   "outputs": [
    {
     "name": "stdout",
     "output_type": "stream",
     "text": [
      "             precision    recall  f1-score   support\n",
      "\n",
      "          0       0.78      0.71      0.74       319\n",
      "          1       0.86      0.84      0.85       389\n",
      "          2       0.92      0.87      0.89       390\n",
      "          3       0.72      0.89      0.80       396\n",
      "          4       0.78      0.79      0.79       394\n",
      "          5       0.87      0.76      0.81       364\n",
      "\n",
      "avg / total       0.82      0.82      0.82      2252\n",
      "\n"
     ]
    }
   ],
   "source": [
    "vectorizer = TfidfVectorizer(tokenizer=preprocessing,\n",
    "                             stop_words=stopwords.words('english'))\n",
    "le = LabelEncoder()\n",
    "\n",
    "# Training \n",
    "vectors_train = vectorizer.fit_transform(newsgroups_train.data)\n",
    "labels_train = le.fit_transform(newsgroups_train.target)\n",
    "\n",
    "# Just for debug quickly reassign labels\n",
    "X = vectors_train\n",
    "y = labels_train\n",
    "\n",
    "\n",
    "#clf = MultinomialNB(alpha=.01)\n",
    "clf = svm.SVC(kernel='linear', C = 1.0)\n",
    "\n",
    "# Evaluate using cross validation\n",
    "#cross_val = KFold(len(newsgroups_train.target),n_folds=5,shuffle=True)\n",
    "\n",
    "clf.fit(vectors_train, newsgroups_train.target)\n",
    "vectors_test = vectorizer.transform(newsgroups_test.data)\n",
    "pred = clf.predict(vectors_test)\n",
    "\n",
    "#print metrics.f1_score(newsgroups_test.target, pred)\n",
    "print classification_report(le.inverse_transform(newsgroups_test.target),le.inverse_transform(pred))"
   ]
  },
  {
   "cell_type": "markdown",
   "metadata": {},
   "source": [
    "### 4. Doc2Vec model"
   ]
  },
  {
   "cell_type": "code",
   "execution_count": 27,
   "metadata": {},
   "outputs": [],
   "source": [
    "#Preprocessing for Doc2Vec \n",
    "def clean_news(articles):  \n",
    "    clean = [] \n",
    "    for article in articles:\n",
    "        clean.append(preprocessing(article,stop=True,sent=False, stem=False))\n",
    "    return clean\n",
    "        \n",
    "\n",
    "newsgroups_train.data = clean_news(newsgroups_train.data)\n",
    "newsgroups_test.data = clean_news(newsgroups_test.data)"
   ]
  },
  {
   "cell_type": "code",
   "execution_count": 28,
   "metadata": {},
   "outputs": [
    {
     "name": "stdout",
     "output_type": "stream",
     "text": [
      "5634 docs: 3382 train, 2252 test\n",
      "3382\n"
     ]
    }
   ],
   "source": [
    "from collections import namedtuple\n",
    "import nltk\n",
    "from gensim.models.doc2vec import  LabeledSentence\n",
    "import sys\n",
    "\n",
    "\n",
    "all_newsgroup_documents = []\n",
    "\n",
    "#Used to convert newsgroup corpus into Doc2Vec formats\n",
    "def convert_newsgroup(docs,split):\n",
    "    #global doc_count\n",
    "    tagged_documents = []\n",
    "    \n",
    "    for i,v in enumerate(docs):\n",
    "        label = '%s_%s'%(split,i)\n",
    "        tagged_documents.append(LabeledSentence(v, [label]))\n",
    "    \n",
    "    return tagged_documents\n",
    "     \n",
    "test_docs = convert_newsgroup(newsgroups_test.data,'test')\n",
    "train_docs = convert_newsgroup(newsgroups_train.data,'train')\n",
    "\n",
    "all_newsgroup_documents.extend(train_docs)\n",
    "all_newsgroup_documents.extend(test_docs)\n",
    "\n",
    "doc_list = all_newsgroup_documents[:]  # for reshuffling per pass\n",
    "\n",
    "print('%d docs: %d train, %d test' % (len(doc_list), len(train_docs), len(test_docs)))\n",
    "print(len(newsgroups_train.target))"
   ]
  },
  {
   "cell_type": "code",
   "execution_count": 29,
   "metadata": {},
   "outputs": [],
   "source": [
    "# Set up Doc2Vec\n",
    "\n",
    "from gensim.models import *\n",
    "from gensim.test.test_doc2vec import ConcatenatedDoc2Vec\n",
    "\n",
    "dbow_model = Doc2Vec(dm=0, dm_concat=1,sample=1e-5, size=300, window=5, negative=5, hs=0, min_count=2, workers=10)\n",
    "dm_model =  Doc2Vec(dm=1, dm_mean=1, sample=1e-5, size=300, window=10, negative=5, hs=0, min_count=2, workers=10)\n",
    "dbow_model.build_vocab(all_newsgroup_documents)\n",
    "dm_model.build_vocab(all_newsgroup_documents)\n",
    "\n",
    "\n",
    "dbow_dmm_model = ConcatenatedDoc2Vec([dbow_model, dm_model])"
   ]
  },
  {
   "cell_type": "markdown",
   "metadata": {},
   "source": [
    "### Training"
   ]
  },
  {
   "cell_type": "code",
   "execution_count": 30,
   "metadata": {},
   "outputs": [],
   "source": [
    "from collections import defaultdict\n",
    "best_error = defaultdict(lambda :1.0)\n",
    "\n",
    "#Get Vectors From Word2Vec\n",
    "def extract_vectors(model,docs):    \n",
    "    vectors_list = []\n",
    "    for doc_no in range(len(docs)):\n",
    "        doc_label = docs[doc_no].tags[0]\n",
    "        doc_vector = model.docvecs[doc_label]\n",
    "        vectors_list.append(doc_vector)\n",
    "        \n",
    "    return vectors_list\n",
    "\n",
    "# TODO inferred vectors\n",
    "\n",
    "def get_infer_vectors(model,docs):   \n",
    "    vecs = []\n",
    "    for doc in docs:\n",
    "        vecs.append(model.infer_vector(doc.words))\n",
    "    return vecs"
   ]
  },
  {
   "cell_type": "code",
   "execution_count": 39,
   "metadata": {},
   "outputs": [
    {
     "name": "stdout",
     "output_type": "stream",
     "text": [
      "0.025\n",
      "0.02476\n",
      "0.02452\n",
      "0.02428\n",
      "0.02404\n",
      "0.0238\n",
      "0.02356\n",
      "0.02332\n",
      "0.02308\n",
      "0.02284\n",
      "0.0226\n",
      "0.02236\n",
      "0.02212\n",
      "0.02188\n",
      "0.02164\n",
      "0.0214\n",
      "0.02116\n",
      "0.02092\n",
      "0.02068\n",
      "0.02044\n",
      "0.0202\n",
      "0.01996\n",
      "0.01972\n",
      "0.01948\n",
      "0.01924\n",
      "0.019\n",
      "0.01876\n",
      "0.01852\n",
      "0.01828\n",
      "0.01804\n",
      "0.0178\n",
      "0.01756\n",
      "0.01732\n",
      "0.01708\n",
      "0.01684\n",
      "0.0166\n",
      "0.01636\n",
      "0.01612\n",
      "0.01588\n",
      "0.01564\n",
      "0.0154\n",
      "0.01516\n",
      "0.01492\n",
      "0.01468\n",
      "0.01444\n",
      "0.0142\n",
      "0.01396\n",
      "0.01372\n",
      "0.01348\n",
      "0.01324\n",
      "0.013\n",
      "0.01276\n",
      "0.01252\n",
      "0.01228\n",
      "0.01204\n",
      "0.0118\n",
      "0.01156\n",
      "0.01132\n",
      "0.01108\n",
      "0.01084\n",
      "0.0106\n",
      "0.01036\n",
      "0.01012\n",
      "0.00988\n",
      "0.00964\n",
      "0.0094\n",
      "0.00916\n",
      "0.00892\n",
      "0.00868\n",
      "0.00844\n",
      "0.0082\n",
      "0.00796\n",
      "0.00772\n",
      "0.00748\n",
      "0.00724\n",
      "0.007\n",
      "0.00676\n",
      "0.00652\n",
      "0.00628\n",
      "0.00604\n",
      "0.0058\n",
      "0.00556\n",
      "0.00532\n",
      "0.00508\n",
      "0.00484\n",
      "0.0046\n",
      "0.00436\n",
      "0.00412\n",
      "0.00388\n",
      "0.00364\n",
      "0.0034\n",
      "0.00316\n",
      "0.00292\n",
      "0.00268\n",
      "0.00244\n",
      "0.0022\n",
      "0.00196\n",
      "0.00172\n",
      "0.00148\n",
      "0.00124\n"
     ]
    }
   ],
   "source": [
    "from random import shuffle\n",
    "alpha, min_alpha, passes = (0.025, 0.001, 100)\n",
    "alpha_delta = (alpha - min_alpha) / passes\n",
    "from sklearn.grid_search import GridSearchCV\n",
    "from sklearn.svm import LinearSVC\n",
    "\n",
    "## DOUBLE CHECK ON INPUTS INTO MODEL\n",
    "\n",
    "for epoch in range(passes):\n",
    "    shuffle(doc_list)\n",
    "    print alpha   \n",
    "    dbow_model.alpha, dbow_model.min_alpha = alpha, alpha\n",
    "    dbow_model.train(doc_list,total_examples=dbow_model.corpus_count,epochs=dbow_model.iter)\n",
    "    \n",
    "    dm_model.alpha, dm_model.min_alpha = alpha, alpha\n",
    "    dm_model.train(doc_list,total_examples=dm_model.corpus_count,epochs=dm_model.iter)\n",
    "    \n",
    "    dbow_dmm_model.alpha, dbow_dmm_model.min_alpha = alpha, alpha\n",
    "    dbow_dmm_model.train(doc_list,total_examples=dbow_model.corpus_count,epochs=dbow_model.iter)\n",
    "    alpha -= alpha_delta"
   ]
  },
  {
   "cell_type": "markdown",
   "metadata": {},
   "source": [
    "### Evaluation"
   ]
  },
  {
   "cell_type": "code",
   "execution_count": 41,
   "metadata": {},
   "outputs": [],
   "source": [
    "from sklearn.ensemble import RandomForestClassifier, GradientBoostingClassifier\n",
    "from sklearn.multiclass import OneVsRestClassifier\n",
    "from sklearn.linear_model import LogisticRegression\n",
    "from sklearn.svm import SVC\n",
    "\n",
    "train_vectors = extract_vectors(dbow_dmm_model,train_docs)\n",
    "test_vectors = extract_vectors(dbow_dmm_model,test_docs)\n",
    "class_7_idx = np.where(newsgroups_train.target == 7)[0]\n",
    "train_new_vectors = [train_vectors[i] for i in range(len(train_vectors)) if i not in class_7_idx]\n",
    "train_new_labels = [newsgroups_train.target[i] for i in range(len(newsgroups_train.target)) if i not in class_7_idx]\n",
    "\n",
    "clf = OneVsRestClassifier(SVC(kernel='sigmoid', probability=True))\n",
    "#clf = LinearSVC(C=0.0025)\n",
    "#clf = MultinomialNB(alpha=.01)\n",
    "#clf = LogisticRegression(multi_class='multinomial', solver='lbfgs')\n",
    "#clf =RandomForestClassifier(max_depth=5)\n",
    "#clf = GradientBoostingClassifier(loss = 'deviance', learning_rate = 0.1, verbose=1)\n",
    "clf.fit(train_new_vectors, train_new_labels)\n",
    "\n",
    "predDoc = clf.predict_proba(test_vectors)\n",
    "        \n",
    "#print classification_report(le.inverse_transform(newsgroups_test.target),le.inverse_transform(predDoc))"
   ]
  },
  {
   "cell_type": "code",
   "execution_count": 42,
   "metadata": {},
   "outputs": [
    {
     "data": {
      "text/plain": [
       "array([  8.45058713e-05,   2.37857112e-03,   7.24802657e-03,\n",
       "         6.29593360e-01,   3.53614191e-01,   7.08134567e-03])"
      ]
     },
     "execution_count": 42,
     "metadata": {},
     "output_type": "execute_result"
    }
   ],
   "source": [
    "predDoc[2]"
   ]
  },
  {
   "cell_type": "code",
   "execution_count": 44,
   "metadata": {},
   "outputs": [],
   "source": [
    "%matplotlib inline\n",
    "import numpy as np\n",
    "import pandas as pd\n",
    "from scipy import stats, integrate\n",
    "import matplotlib.pyplot as plt\n",
    "import seaborn as sns\n",
    "import matplotlib.pyplot as plt\n"
   ]
  },
  {
   "cell_type": "code",
   "execution_count": 45,
   "metadata": {},
   "outputs": [
    {
     "ename": "IndexError",
     "evalue": "index 6 is out of bounds for axis 1 with size 6",
     "output_type": "error",
     "traceback": [
      "\u001b[0;31m---------------------------------------------------------------------------\u001b[0m",
      "\u001b[0;31mIndexError\u001b[0m                                Traceback (most recent call last)",
      "\u001b[0;32m<ipython-input-45-3d70581c6498>\u001b[0m in \u001b[0;36m<module>\u001b[0;34m()\u001b[0m\n\u001b[1;32m      5\u001b[0m \u001b[0;32mfor\u001b[0m \u001b[0midx\u001b[0m \u001b[0;32min\u001b[0m \u001b[0mrange\u001b[0m\u001b[0;34m(\u001b[0m\u001b[0;36m19\u001b[0m\u001b[0;34m)\u001b[0m\u001b[0;34m:\u001b[0m\u001b[0;34m\u001b[0m\u001b[0m\n\u001b[1;32m      6\u001b[0m     \u001b[0max\u001b[0m \u001b[0;34m=\u001b[0m \u001b[0mfig\u001b[0m\u001b[0;34m.\u001b[0m\u001b[0madd_subplot\u001b[0m\u001b[0;34m(\u001b[0m\u001b[0;36m10\u001b[0m\u001b[0;34m,\u001b[0m \u001b[0;36m2\u001b[0m\u001b[0;34m,\u001b[0m \u001b[0midx\u001b[0m\u001b[0;34m+\u001b[0m\u001b[0;36m1\u001b[0m\u001b[0;34m)\u001b[0m\u001b[0;34m\u001b[0m\u001b[0m\n\u001b[0;32m----> 7\u001b[0;31m     \u001b[0max\u001b[0m\u001b[0;34m.\u001b[0m\u001b[0mhist\u001b[0m\u001b[0;34m(\u001b[0m\u001b[0mpredDoc\u001b[0m\u001b[0;34m[\u001b[0m\u001b[0;34m:\u001b[0m\u001b[0;34m,\u001b[0m\u001b[0midx\u001b[0m\u001b[0;34m]\u001b[0m\u001b[0;34m,\u001b[0m \u001b[0mbins\u001b[0m\u001b[0;34m=\u001b[0m\u001b[0;36m20\u001b[0m\u001b[0;34m)\u001b[0m\u001b[0;34m\u001b[0m\u001b[0m\n\u001b[0m\u001b[1;32m      8\u001b[0m     \u001b[0mtxt\u001b[0m \u001b[0;34m=\u001b[0m \u001b[0;34m\"Class\"\u001b[0m\u001b[0;34m+\u001b[0m\u001b[0mstr\u001b[0m\u001b[0;34m(\u001b[0m\u001b[0midx\u001b[0m\u001b[0;34m+\u001b[0m\u001b[0;36m1\u001b[0m\u001b[0;34m)\u001b[0m\u001b[0;34m\u001b[0m\u001b[0m\n\u001b[1;32m      9\u001b[0m     \u001b[0max\u001b[0m\u001b[0;34m.\u001b[0m\u001b[0mset_title\u001b[0m\u001b[0;34m(\u001b[0m\u001b[0mlabel\u001b[0m\u001b[0;34m=\u001b[0m\u001b[0mtxt\u001b[0m\u001b[0;34m)\u001b[0m\u001b[0;34m\u001b[0m\u001b[0m\n",
      "\u001b[0;31mIndexError\u001b[0m: index 6 is out of bounds for axis 1 with size 6"
     ]
    },
    {
     "data": {
      "image/png": "[encoded data removed]",
      "text/plain": [
       "<matplotlib.figure.Figure at 0x7f0d20ebc0d0>"
      ]
     },
     "metadata": {},
     "output_type": "display_data"
    }
   ],
   "source": [
    "fig = plt.figure(figsize=(20, 40)) \n",
    "#f,a = plt.subplots(7,3 )\n",
    "#a = a.ravel()\n",
    "\n",
    "for idx in range(19):\n",
    "    ax = fig.add_subplot(10, 2, idx+1)\n",
    "    ax.hist(predDoc[:,idx], bins=20)\n",
    "    txt = \"Class\"+str(idx+1)\n",
    "    ax.set_title(label=txt)\n",
    "\n",
    "    "
   ]
  },
  {
   "cell_type": "markdown",
   "metadata": {},
   "source": [
    "## **Create Word Embedding use BOV appoach**"
   ]
  },
  {
   "cell_type": "markdown",
   "metadata": {},
   "source": [
    "## 1-vs-Rest Sigmoid Classification"
   ]
  },
  {
   "cell_type": "code",
   "execution_count": null,
   "metadata": {},
   "outputs": [],
   "source": [
    "import math\n",
    "from sklearn.metrics import log_loss\n",
    "\n",
    "def sigmoid(x):\n",
    "      return 1 / (1 + math.exp(-x))\n",
    "    \n",
    "def loss_function(train_data, train_label)"
   ]
  }
 ],
 "metadata": {
  "kernelspec": {
   "display_name": "Python 2",
   "language": "python",
   "name": "python2"
  },
  "language_info": {
   "codemirror_mode": {
    "name": "ipython",
    "version": 2
   },
   "file_extension": ".py",
   "mimetype": "text/x-python",
   "name": "python",
   "nbconvert_exporter": "python",
   "pygments_lexer": "ipython2",
   "version": "2.7.14"
  }
 },
 "nbformat": 4,
 "nbformat_minor": 2
}
