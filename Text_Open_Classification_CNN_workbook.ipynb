{
 "cells": [
  {
   "cell_type": "markdown",
   "metadata": {},
   "source": [
    "# CNN Language Model"
   ]
  },
  {
   "cell_type": "code",
   "execution_count": 50,
   "metadata": {
    "collapsed": false
   },
   "outputs": [
    {
     "data": {
      "text/plain": [
       "<module 'shared_lib.utils' from 'shared_lib/utils.pyc'>"
      ]
     },
     "execution_count": 50,
     "metadata": {},
     "output_type": "execute_result"
    }
   ],
   "source": [
    "# This tells matplotlib not to try opening a new window for each plot.\n",
    "%matplotlib inline\n",
    "import matplotlib.pyplot as plt\n",
    "\n",
    "import os, sys, re, json, time, shutil\n",
    "import itertools, collections\n",
    "from IPython.display import display, HTML\n",
    "from collections import Counter\n",
    "\n",
    "# NLTK for NLP utils and corpora\n",
    "import nltk\n",
    "from sklearn.metrics import classification_report, accuracy_score\n",
    "\n",
    "# NumPy and TensorFlow\n",
    "import numpy as np\n",
    "import tensorflow as tf\n",
    "assert(tf.__version__.startswith(\"1.1\"))\n",
    "\n",
    "# utils.pretty_print_matrix uses Pandas. Configure float format here.\n",
    "import pandas as pd\n",
    "pd.set_option('float_format', lambda f: \"{0:.04f}\".format(f))\n",
    "\n",
    "# Helper libraries\n",
    "from shared_lib import utils, vocabulary, tf_embed_viz\n",
    "\n",
    "# Import model\n",
    "#import cnnlm\n",
    "reload(utils)"
   ]
  },
  {
   "cell_type": "markdown",
   "metadata": {},
   "source": [
    "Define environment variables"
   ]
  },
  {
   "cell_type": "code",
   "execution_count": 51,
   "metadata": {
    "collapsed": true
   },
   "outputs": [],
   "source": [
    "DATA_DIR = 'Data_Set/'\n",
    "PROJECT_PATH = os.getcwd()\n",
    "PROJECT_DATA = os.path.join(PROJECT_PATH, DATA_DIR)"
   ]
  },
  {
   "cell_type": "markdown",
   "metadata": {},
   "source": [
    "## Process 20 newsgroup data as input to CNN"
   ]
  },
  {
   "cell_type": "markdown",
   "metadata": {},
   "source": [
    "### 1. Load 20 newsgroup data"
   ]
  },
  {
   "cell_type": "code",
   "execution_count": 52,
   "metadata": {
    "collapsed": false,
    "scrolled": true
   },
   "outputs": [
    {
     "name": "stdout",
     "output_type": "stream",
     "text": [
      "class: 0\t = alt.atheism\n",
      "class: 1\t = comp.graphics\n",
      "class: 2\t = comp.os.ms-windows.misc\n",
      "class: 3\t = comp.sys.ibm.pc.hardware\n",
      "class: 4\t = comp.sys.mac.hardware\n",
      "class: 5\t = comp.windows.x\n",
      "class: 6\t = misc.forsale\n",
      "class: 7\t = rec.autos\n",
      "class: 8\t = rec.motorcycles\n",
      "class: 9\t = rec.sport.baseball\n",
      "class: 10\t = rec.sport.hockey\n",
      "class: 11\t = sci.crypt\n",
      "class: 12\t = sci.electronics\n",
      "class: 13\t = sci.med\n",
      "class: 14\t = sci.space\n",
      "class: 15\t = soc.religion.christian\n",
      "class: 16\t = talk.politics.guns\n",
      "class: 17\t = talk.politics.mideast\n",
      "class: 18\t = talk.politics.misc\n",
      "class: 19\t = talk.religion.misc\n"
     ]
    }
   ],
   "source": [
    "# SK-learn library for importing the newsgroup data.\n",
    "from sklearn.datasets import fetch_20newsgroups\n",
    "\n",
    "# Get newsgroup data\n",
    "newsgroup_data_all = fetch_20newsgroups(subset = 'all', remove=('headers', 'footers', 'quotes'))\n",
    "all_data, all_labels = newsgroup_data_all.data, newsgroup_data_all.target\n",
    "\n",
    "# List of all the class labels\n",
    "label_list = list(newsgroup_data_all.target_names)\n",
    "\n",
    "# Print the class labels\n",
    "i = 0\n",
    "for label in label_list:\n",
    "    print \"class: %i\\t = %s\" %(i, label)\n",
    "    i += 1"
   ]
  },
  {
   "cell_type": "markdown",
   "metadata": {},
   "source": [
    "### 2. Determine the length of document to use\n",
    "\n",
    "* From the distribution, must of the document is quite short. The original paper use **2000** word length which we can use this length or try other length if needed. \n",
    "\n",
    "* If a document is longer than the defined doc length, it will be cut, if it is shorter, it will be padded.\n",
    "\n",
    "* < PAD > tag is used for padding"
   ]
  },
  {
   "cell_type": "markdown",
   "metadata": {},
   "source": [
    "#### Document length distribution of 20 newsgroup data\n",
    "\n",
    "* Does using 2000 document length makes sense?"
   ]
  },
  {
   "cell_type": "code",
   "execution_count": 74,
   "metadata": {
    "collapsed": false,
    "scrolled": false
   },
   "outputs": [
    {
     "name": "stdout",
     "output_type": "stream",
     "text": [
      "Number of Samples: 4536, Max Length: 158791, Min Length: 0, Avg Length: 1255.431\n"
     ]
    },
    {
     "data": {
      "image/png": "[encoded data removed]",
      "text/plain": [
       "<matplotlib.figure.Figure at 0x7f5c4dad91d0>"
      ]
     },
     "metadata": {},
     "output_type": "display_data"
    }
   ],
   "source": [
    "doc_len =[]\n",
    "for doc in all_data:\n",
    "    doc_len.append(len(doc))\n",
    "\n",
    "# Document length statistics\n",
    "print \"Number of Samples: %i, Max Length: %i, Min Length: %i, Avg Length: %.3f\" \\\n",
    "    %(len(doc_len), max(doc_len), min(doc_len), np.mean(doc_len))\n",
    "\n",
    "plt.figure(figsize = (12, 8))\n",
    "n, bins, patches = plt.hist(doc_len, 300)\n",
    "plt.title(\"Document Length Distribution\")\n",
    "plt.xlabel(\"Word Length\")\n",
    "plt.ylabel(\"Frequency\")\n",
    "plt.show()"
   ]
  },
  {
   "cell_type": "markdown",
   "metadata": {},
   "source": [
    "### 3. Build Vocabulary using 20 newsgroup data set\n",
    "\n",
    "* Load all data from library => remove header/footer/quotes => clean string => create corpus => build vocabulary\n",
    "\n",
    "* To build corpus, we write to raw txt, then use NLTK to process the raw text to a corpus"
   ]
  },
  {
   "cell_type": "code",
   "execution_count": 54,
   "metadata": {
    "collapsed": false
   },
   "outputs": [
    {
     "name": "stdout",
     "output_type": "stream",
     "text": [
      "newsgroup_all.txt\n"
     ]
    }
   ],
   "source": [
    "from nltk.corpus import PlaintextCorpusReader\n",
    "\n",
    "f = open('./Data_Set/newsgroup_prep/newsgroup_all.txt', 'w') \n",
    "for doc in all_data:\n",
    "    # Clean up str\n",
    "    doc = utils.clean_str((doc).encode('utf-8'))\n",
    "    # remove stop words and do stemming optionaly\n",
    "    doc = utils.preprocess_stop_stem(doc, stop=True, sent=True, stem=False)\n",
    "    f.write(\"%s\\n\" %(doc))\n",
    "f.close()\n",
    "\n",
    "# RegEx or list of file names\n",
    "data_20newsgroup = os.path.join(PROJECT_DATA, 'newsgroup_prep/')\n",
    "\n",
    "corpus = PlaintextCorpusReader(data_20newsgroup, 'newsgroup_all.txt')\n",
    "\n",
    "for infile in sorted(corpus.fileids()):\n",
    "    print infile # The fileids of each file."
   ]
  },
  {
   "cell_type": "code",
   "execution_count": 55,
   "metadata": {
    "collapsed": false
   },
   "outputs": [
    {
     "name": "stdout",
     "output_type": "stream",
     "text": [
      "Vocabulary: 20000 words\n"
     ]
    }
   ],
   "source": [
    "V = 20000\n",
    "vocab = vocabulary.Vocabulary((utils.canonicalize_word(w) \n",
    "                               for w in utils.flatten(corpus.sents())),\n",
    "                               size = V)\n",
    "print \"Vocabulary: %d words\" % vocab.size"
   ]
  },
  {
   "cell_type": "markdown",
   "metadata": {},
   "source": [
    "### 4. Prepare Data for the CNN\n",
    "\n",
    "### Option 1. Train word Embedding with CNN. \n",
    "\n",
    "#### Tokenize document and build input data for word2vec\n",
    "\n",
    "* Load data => remove header/footer/quotes => cleaned string => cut and pad => use vocabulary to tokenize\n",
    "\n",
    "* Need to enable randomly select a number of classes for training and test data\n",
    "\n",
    "* Instead of using Sk-learn's building selection of train or test data. Build our own train/test data based on %split"
   ]
  },
  {
   "cell_type": "code",
   "execution_count": 56,
   "metadata": {
    "collapsed": false
   },
   "outputs": [
    {
     "name": "stdout",
     "output_type": "stream",
     "text": [
      "Randomly Select Classes:  ['comp.sys.mac.hardware', 'talk.religion.misc', 'comp.os.ms-windows.misc', 'sci.space', 'comp.graphics']\n"
     ]
    }
   ],
   "source": [
    "# Select training and test data based on the number of classes\n",
    "# Including randomization option\n",
    "import random\n",
    "from random import randint\n",
    "random.seed(8)\n",
    "\n",
    "num_class = 5\n",
    "randomize = True\n",
    "\n",
    "if randomize == True:\n",
    "    label_idxs = []\n",
    "    for x in range(num_class):\n",
    "        label_idxs.append(randint(0, 19))\n",
    "else:\n",
    "    label_idxs = range(num_class)\n",
    "\n",
    "select_classes = [label_list[i] for i in label_idxs]\n",
    "print \"Randomly Select Classes: \", select_classes\n",
    "\n",
    "newsgroups_all = fetch_20newsgroups(subset='all', remove=('headers', 'footers', 'quotes'),\n",
    "                                    categories=select_classes)\n",
    "\n",
    "all_data, all_labels = newsgroups_all.data, newsgroups_all.target"
   ]
  },
  {
   "cell_type": "code",
   "execution_count": 57,
   "metadata": {
    "collapsed": false
   },
   "outputs": [
    {
     "name": "stdout",
     "output_type": "stream",
     "text": [
      "Loaded 4536 docs (5.60058e+06 tokens)\n",
      "Training set: 3628 docs (4477827 tokens)\n",
      "Test set: 908 docs (1122749 tokens)\n"
     ]
    }
   ],
   "source": [
    "doc_length = 200\n",
    "\n",
    "# Preprocess data\n",
    "# Cleaning special characters\n",
    "# Cut or pad based on document length\n",
    "all_docs = utils.preprocess_doc(all_data, length = doc_length)\n",
    "\n",
    "train_docs, train_labels, test_docs, test_labels = utils.get_train_test_docs(all_docs, \n",
    "                                                                             all_labels, \n",
    "                                                                             split = 0.8, \n",
    "                                                                             shuffle = True)"
   ]
  },
  {
   "cell_type": "code",
   "execution_count": 58,
   "metadata": {
    "collapsed": false
   },
   "outputs": [
    {
     "name": "stdout",
     "output_type": "stream",
     "text": [
      "Input Training Docs shape: (3628, 200) should equal to (batch_size, doc_length)\n",
      "Input Training labels shape: (3628, 5) should equal to (batch_size, num_class)\n",
      "Input Testing Docs shape: (908, 200) should equal to (batch_size, doc_length)\n",
      "Input Testing labels shape: (908, 5) should equal to (batch_size, num_class)\n"
     ]
    }
   ],
   "source": [
    "# Tokenize documents and conver to ID\n",
    "# We tokenize each docs in the dataset and convert to vocab ID\n",
    "# matrix of batch_size x doc_length\n",
    "train_docs_ids = utils.docs_to_ids(train_docs, vocab)\n",
    "test_docs_ids = utils.docs_to_ids(test_docs, vocab)\n",
    "\n",
    "# Convert label to one-hot-code\n",
    "train_labels_oh = np.eye(num_class)[train_labels]\n",
    "test_labels_oh = np.eye(num_class)[test_labels]\n",
    "\n",
    "print \"Input Training Docs shape:\", train_docs_ids.shape, \"should equal to (batch_size, doc_length)\"\n",
    "print \"Input Training labels shape:\", train_labels_oh.shape, \"should equal to (batch_size, num_class)\"\n",
    "print \"Input Testing Docs shape:\", test_docs_ids.shape, \"should equal to (batch_size, doc_length)\"\n",
    "print \"Input Testing labels shape:\", test_labels_oh.shape, \"should equal to (batch_size, num_class)\""
   ]
  },
  {
   "cell_type": "markdown",
   "metadata": {},
   "source": [
    "### Option 2 Load Google Pretrained Word2vec"
   ]
  },
  {
   "cell_type": "code",
   "execution_count": 59,
   "metadata": {
    "collapsed": true
   },
   "outputs": [],
   "source": [
    "def load_google_bin(fname, vocab):\n",
    "    \"\"\"\n",
    "    Loads 300x1 word vecs from Google (Mikolov) word2vec\n",
    "    \"\"\"\n",
    "    word_vecs = {}\n",
    "    with open(fname, \"rb\") as f:\n",
    "        header = f.readline()\n",
    "        vocab_size, layer1_size = map(int, header.split())\n",
    "        print \"Google Word2vec Vocabulary Size:\", vocab_size\n",
    "        print \"Vector size:\", layer1_size\n",
    "        binary_len = np.dtype('float32').itemsize * layer1_size\n",
    "        print \"Binary Length of word vector:\", binary_len\n",
    "        for line in xrange(vocab_size):\n",
    "            word = []\n",
    "            while True: # Read 1 char a time\n",
    "                ch = f.read(1) \n",
    "                if ch == ' ': # If it is a space, a word is read, we join then to read its vector\n",
    "                    word = ''.join(word)\n",
    "                    break\n",
    "                if ch != '\\n': # If it is not \\n, grouping character\n",
    "                    word.append(ch) \n",
    "            if word in vocab.wordset: # If a word in the 20 newsgroup vocab, get its vector\n",
    "                word_vecs[word] = np.fromstring(f.read(binary_len), dtype='float32')  \n",
    "            else:\n",
    "                f.read(binary_len)\n",
    "    f.close()\n",
    "    return word_vecs"
   ]
  },
  {
   "cell_type": "code",
   "execution_count": 60,
   "metadata": {
    "collapsed": false
   },
   "outputs": [
    {
     "name": "stdout",
     "output_type": "stream",
     "text": [
      "Google Word2vec Vocabulary Size: 3000000\n",
      "Vector size: 300\n",
      "Binary Length of word vector: 1200\n"
     ]
    }
   ],
   "source": [
    "google_word2vec = load_google_bin('./google_word2vec/GoogleNews-vectors-negative300.bin', vocab)"
   ]
  },
  {
   "cell_type": "code",
   "execution_count": 61,
   "metadata": {
    "collapsed": false
   },
   "outputs": [
    {
     "name": "stdout",
     "output_type": "stream",
     "text": [
      "Total Number of vocabulary in 20newsgroup: 20000\n",
      "Total matched vocabulary from google word2vec: 16555\n",
      "--- Print a sample of google_word2vec vocabulary ---\n",
      "Word: raining \t\t Vector: [ 0.02331543  0.05004883 -0.00059891] ...\n",
      "Word: writings \t\t Vector: [ 0.18945312  0.2109375   0.20507812] ...\n",
      "Word: divinely \t\t Vector: [-0.02783203 -0.40820312 -0.01037598] ...\n",
      "Word: foul \t\t Vector: [ 0.18847656 -0.28710938  0.33007812] ...\n",
      "Word: four \t\t Vector: [ 0.0859375  -0.07275391  0.01672363] ...\n",
      "Word: gag \t\t Vector: [ 0.14648438 -0.08203125 -0.00897217] ...\n",
      "Word: prefix \t\t Vector: [ 0.34570312  0.1640625   0.11425781] ...\n",
      "Word: woods \t\t Vector: [ 0.11328125 -0.01165771 -0.20800781] ...\n",
      "Word: verses \t\t Vector: [ 0.28710938  0.15820312  0.23828125] ...\n",
      "Word: hanging \t\t Vector: [ 0.08984375  0.13769531 -0.14941406] ...\n",
      "Word: woody \t\t Vector: [ 0.08251953  0.44140625  0.07421875] ...\n"
     ]
    }
   ],
   "source": [
    "print \"Total Number of vocabulary in 20newsgroup:\", vocab.size\n",
    "print \"Total matched vocabulary from google word2vec:\", len(google_word2vec.keys())\n",
    "print \"--- Print a sample of google_word2vec vocabulary ---\"\n",
    "i = 0\n",
    "for k, v in google_word2vec.iteritems():\n",
    "    if i <= 10:\n",
    "        print \"Word: %s \\t\\t Vector: %s ...\" %(k, v[:3])\n",
    "    i += 1"
   ]
  },
  {
   "cell_type": "markdown",
   "metadata": {},
   "source": [
    "#### Cross check vocabulary in 20newsgroup"
   ]
  },
  {
   "cell_type": "code",
   "execution_count": 62,
   "metadata": {
    "collapsed": false
   },
   "outputs": [],
   "source": [
    "regex = r'\\b([A-Za-z]+)\\b'\n",
    "count_w = []\n",
    "count_s = []\n",
    "for word in vocab.wordset:    \n",
    "    if re.search(regex, str(word)):\n",
    "        count_w.append(str(word))\n",
    "    else:\n",
    "        count_s.append(str(word))"
   ]
  },
  {
   "cell_type": "code",
   "execution_count": 63,
   "metadata": {
    "collapsed": false
   },
   "outputs": [
    {
     "name": "stdout",
     "output_type": "stream",
     "text": [
      "Number of full letter words 18724\n",
      "Number of mixed ascii words 1276\n"
     ]
    }
   ],
   "source": [
    "print \"Number of full letter words\", len(count_w)\n",
    "print \"Number of mixed ascii words\", len(count_s)"
   ]
  },
  {
   "cell_type": "code",
   "execution_count": 64,
   "metadata": {
    "collapsed": false
   },
   "outputs": [
    {
     "data": {
      "text/plain": [
       "['u3', '51s', '51t', '2z', '9k']"
      ]
     },
     "execution_count": 64,
     "metadata": {},
     "output_type": "execute_result"
    }
   ],
   "source": [
    "count_s[:5]"
   ]
  },
  {
   "cell_type": "markdown",
   "metadata": {},
   "source": [
    "#### Take care of unknown words from 20newsgroup that does not exist in google word2vec\n",
    "\n",
    "* 0.25 is chosen so the unknown vectors have (approximately) same variance as pre-trained ones"
   ]
  },
  {
   "cell_type": "code",
   "execution_count": 65,
   "metadata": {
    "collapsed": true
   },
   "outputs": [],
   "source": [
    "def add_unknown_words(google_word2vec, vocab, k=300):\n",
    "    for word in vocab.wordset:\n",
    "        if word not in google_word2vec:\n",
    "            google_word2vec[word] = np.random.uniform(-0.25,0.25,k)  "
   ]
  },
  {
   "cell_type": "code",
   "execution_count": 66,
   "metadata": {
    "collapsed": true
   },
   "outputs": [],
   "source": [
    "add_unknown_words(google_word2vec, vocab, k=300)"
   ]
  },
  {
   "cell_type": "code",
   "execution_count": 67,
   "metadata": {
    "collapsed": false
   },
   "outputs": [
    {
     "name": "stdout",
     "output_type": "stream",
     "text": [
      "Total Number of vocabulary in 20newsgroup: 20000\n",
      "Total matched vocabulary from google word2vec: 20000\n",
      "Pre-trained word2vec size (20000, 300)\n"
     ]
    }
   ],
   "source": [
    "print \"Total Number of vocabulary in 20newsgroup:\", vocab.size\n",
    "print \"Total matched vocabulary from google word2vec:\", len(google_word2vec.keys())\n",
    "pt_word2vec = np.array(google_word2vec.values())\n",
    "print \"Pre-trained word2vec size\", pt_word2vec.shape"
   ]
  },
  {
   "cell_type": "markdown",
   "metadata": {},
   "source": [
    "### CNN Illustrated"
   ]
  },
  {
   "cell_type": "markdown",
   "metadata": {},
   "source": [
    "<img src=\"cnn.png\" width = \"80%\">"
   ]
  },
  {
   "cell_type": "markdown",
   "metadata": {},
   "source": [
    "### DOC Paper Terminology and Notes:\n",
    "\n",
    "* Embedding Layer:\n",
    "\n",
    "    * batch_size: N\n",
    "    * number of class: M\n",
    "    * A document matrix has size of $s \\times d$\n",
    "        * word embedding dimension: d => 300\n",
    "        * doc length: s => 2000\n",
    "    \n",
    "    \n",
    "* CNN Layer\n",
    "\n",
    "    * Region size: h => [3, 4, 5]\n",
    "    * Width of the filter: d => 300\n",
    "    * Number of filters per region: f => 150\n",
    "    * CNN out o: k => f x h = 150 x 3\n",
    "    \n",
    "\n",
    "* Output Layer\n",
    "    * W: $r \\times k$\n",
    "    * W': $M \\times r$\n",
    "    * y: $M$\n",
    "\n",
    "Note: The DOC Paper used a 2 fully connected output layer before softmax which is different from common approach\n",
    "\n",
    "$$out = W'(ReLU(Wo + b)) + b'$$\n",
    "    "
   ]
  },
  {
   "cell_type": "markdown",
   "metadata": {},
   "source": [
    "### Define CNN Parameters"
   ]
  },
  {
   "cell_type": "code",
   "execution_count": 82,
   "metadata": {
    "collapsed": true
   },
   "outputs": [],
   "source": [
    "# CNN Paramters\n",
    "# doc_length = 100 => to be aligned with DOC paper?\n",
    "# num_class = 3 => to be adjusted based on stratified CV strategy from the DOC paper\n",
    "# vocab.size => If we don't use google word2vec, it will be vocab.size from newsgroup data alone\n",
    "# embedding_size => to be aligned with DOC paper\n",
    "# filter_size = [3, 4] => to be aligned with DOC paper\n",
    "# num_filters = 100 => to be aligned w\n",
    "\n",
    "doc_length = doc_length # s\n",
    "num_classes = num_class # M\n",
    "vocab_size = vocab.size\n",
    "embedding_size = 300 # d\n",
    "embedding_train = True # if True, we train word embedding, if not we use pretrained word2vec\n",
    "filter_sizes = [3, 4, 5]\n",
    "num_filters = 150 # f\n",
    "l2_reg_lambda = 0.0\n",
    "dropout_prob = 0.5\n",
    "hidden = 250 # r"
   ]
  },
  {
   "cell_type": "code",
   "execution_count": 83,
   "metadata": {
    "collapsed": false
   },
   "outputs": [],
   "source": [
    "# Placeholders for input, output and dropout\n",
    "# x_: Document, Size: (batch, document_length) word in indice\n",
    "# y_: Classes, Size: (batch, num_of_classes)\n",
    "# dropout_keep_prob: Dropout regularization parameter\n",
    "\n",
    "x_ = tf.placeholder(tf.int32, [None, doc_length], name=\"x\")\n",
    "y_ = tf.placeholder(tf.float32, [None, num_classes], name=\"y\")\n",
    "dropout_keep_prob = tf.placeholder(tf.float32, name=\"dropout_keep_prob\")\n",
    "\n",
    "# Keeping track of l2 regularization loss (optional)\n",
    "l2_loss = tf.constant(0.0)\n",
    "\n",
    "# Embedding layer (Train embedding layer)\n",
    "# Need different implementation if use google pretrained word2vec\n",
    "with tf.name_scope(\"Embedding_Layer\"):\n",
    "    # The vocab to vector table for lookup (to be trained or pre-trained)\n",
    "    if embedding_train:\n",
    "        C_ = tf.Variable(tf.random_uniform([vocab_size, embedding_size], -1.0, 1.0), name=\"C\")\n",
    "    else:\n",
    "        C_ = tf.placeholder(tf.float32, [vocab_size, embedding_size], name=\"C\")\n",
    "    \n",
    "    # Embedding output needs to be in size: (batch, doc_length, embedding_size, 1)\n",
    "    # Lookup gives (batch, doc_length, embedding_size)\n",
    "    # Therefore, we need to expand the dimension to 4D to work with conv2d\n",
    "    embedded_out = tf.expand_dims(tf.nn.embedding_lookup(C_, x_), -1)\n",
    "\n",
    "# Create a convolution + maxpool layer for each filter size\n",
    "pooled_outputs = []\n",
    "for i, filter_size in enumerate(filter_sizes):\n",
    "    with tf.name_scope(\"conv-maxpool-%s\" % filter_size):\n",
    "        \n",
    "        # Convolution Layer\n",
    "        # input shape: (batch, height(doc length, width(embedding size), channels(1) )\n",
    "        # filter shape: (filter_height, filter width(same as embedding size), in_channel, out_channels)\n",
    "        # in_channel = 1 for our data\n",
    "        # out_channel = num_filters\n",
    "        filter_shape = [filter_size, embedding_size, 1, num_filters]\n",
    "        \n",
    "        # To experiment with normal distribution\n",
    "        W_ = tf.Variable(tf.truncated_normal(filter_shape, stddev=0.1), name=\"W\")\n",
    "        b_ = tf.Variable(tf.constant(0.1, shape=[num_filters]), name=\"b\")\n",
    "        \n",
    "        # \"VALID\" padding means no padding at edge\n",
    "        # Return shape (batch, height(doc length, width(embedding size), 1)\n",
    "        conv_ = tf.nn.conv2d(embedded_out, W_, strides=[1, 1, 1, 1], padding=\"VALID\", name=\"conv\")\n",
    "        \n",
    "        # Apply nonlinearity using Relu (train fasster than tanh)\n",
    "        # Return shape (batch, height(doc length, 1, 1)\n",
    "        h_ = tf.nn.relu(tf.nn.bias_add(conv_, b_), name=\"relu\")\n",
    "        \n",
    "        # Maxpooling over the outputs\n",
    "        # ksize is window for pooling, we took 1 value for width direction\n",
    "        # For height, apply to each convolution steps to stripe the whole input matrix.\n",
    "        # Return shape (1, doc_length-filter_size+1, 1, 1)\n",
    "        pooled = tf.nn.max_pool(h_, \n",
    "                                ksize=[1, doc_length - filter_size + 1, 1, 1],\n",
    "                                strides=[1, 1, 1, 1], \n",
    "                                padding='VALID', \n",
    "                                name=\"pool\")\n",
    "        pooled_outputs.append(pooled)\n",
    "\n",
    "# Combine all the pooled features\n",
    "# find the total number of filters = num_of_filters * num_of_region\n",
    "# If we use [2, 3, 4] and 2 filter per region, we have 3 * 2 = 6 filters\n",
    "num_filters_total = num_filters * len(filter_sizes)\n",
    "\n",
    "# combine pooling output to feature vectors\n",
    "# h_pool_flat in shape of (batch_size, ? , num_filters_total)\n",
    "h_pool = tf.concat(pooled_outputs, 3)\n",
    "h_pool_flat = tf.reshape(h_pool, [-1, num_filters_total])\n",
    "\n",
    "# Add dropout\n",
    "with tf.name_scope(\"dropout\"):\n",
    "    h_drop = tf.nn.dropout(h_pool_flat, dropout_keep_prob)\n",
    "\n",
    "# Output Layer: Softmax\n",
    "# Final (unnormalized) scores and predictions\n",
    "# Do we need to normalize?\n",
    "with tf.name_scope(\"Output_layer\"):\n",
    "    Z1_ = tf.Variable(tf.random_uniform([num_filters_total, hidden], -1.0, 1.0), name = \"Z1\")\n",
    "    Z2_ = tf.Variable(tf.random_uniform([hidden, num_classes], -1.0, 1.0), name = \"Z2\")\n",
    "    b1_ = tf.Variable(tf.constant(0.1, shape=[hidden]), name=\"b1\")\n",
    "    b2_ = tf.Variable(tf.constant(0.1, shape=[num_classes]), name=\"b2\")\n",
    "    hidden_out = tf.nn.relu(tf.matmul(h_drop, Z1_) + b1_)\n",
    "    logits_ = tf.add(tf.matmul(hidden_out, Z2_), b2_, name=\"logits\")\n",
    "    \n",
    "    # L2 loss\n",
    "    l2_loss += tf.nn.l2_loss(Z1_)\n",
    "    l2_loss += tf.nn.l2_loss(b1_)\n",
    "    l2_loss += tf.nn.l2_loss(Z2_)\n",
    "    l2_loss += tf.nn.l2_loss(b2_)\n",
    "    \n",
    "    #scores = tf.nn.xw_plus_b(h_drop, W, b, name=\"scores\")\n",
    "    predictions_ = tf.argmax(logits_, 1, name=\"predictions\")\n",
    "\n",
    "# Calculate mean cross-entropy loss\n",
    "with tf.name_scope(\"cost_function\"):\n",
    "    per_example_losses_ = tf.nn.softmax_cross_entropy_with_logits(logits=logits_, \n",
    "                                                                 labels=y_,\n",
    "                                                                 name=\"per_example_loss\")\n",
    "    loss_ = tf.reduce_mean(per_example_losses_) + l2_reg_lambda * l2_loss\n",
    "\n",
    "# Accuracy\n",
    "with tf.name_scope(\"accuracy\"):\n",
    "    correct_predictions_ = tf.equal(predictions_, tf.argmax(y_, 1))\n",
    "    accuracy_ = tf.reduce_mean(tf.cast(correct_predictions_, \"float\"), name=\"accuracy\")\n"
   ]
  },
  {
   "cell_type": "markdown",
   "metadata": {},
   "source": [
    "### Training with CNN"
   ]
  },
  {
   "cell_type": "markdown",
   "metadata": {},
   "source": [
    "** 1. Train Word Embedding along with CNN **"
   ]
  },
  {
   "cell_type": "markdown",
   "metadata": {},
   "source": [
    "Display parameters"
   ]
  },
  {
   "cell_type": "code",
   "execution_count": 84,
   "metadata": {
    "collapsed": false
   },
   "outputs": [
    {
     "name": "stdout",
     "output_type": "stream",
     "text": [
      "doc_length: 200       \n",
      "num_classes: 5         \n",
      "vocabulary size: 20000     \n",
      "embedding size: 300       \n",
      "Train embedding?  True\n",
      "filter size: [3, 4, 5] \n",
      "number of filters: 150       \n",
      "L2 Regularization: 0.00      \n",
      "Drop out prob: 0.50      \n",
      "Hidden before output: 250       \n"
     ]
    }
   ],
   "source": [
    "print \"doc_length: {:<10d}\".format(doc_length) # s\n",
    "print \"num_classes: {:<10d}\".format(num_class) # M\n",
    "print \"vocabulary size: {:<10d}\".format(vocab.size)\n",
    "print \"embedding size: {:<10d}\".format(embedding_size) # d\n",
    "print \"Train embedding? \", embedding_train\n",
    "print \"filter size: {:<10s}\".format(filter_sizes)\n",
    "print \"number of filters: {:<10d}\".format(num_filters)\n",
    "print \"L2 Regularization: {:<10.2f}\".format(l2_reg_lambda)\n",
    "print \"Drop out prob: {:<10.2f}\".format(dropout_prob)\n",
    "print \"Hidden before output: {:<10d}\".format(hidden)"
   ]
  },
  {
   "cell_type": "code",
   "execution_count": 85,
   "metadata": {
    "collapsed": false
   },
   "outputs": [],
   "source": [
    "# Helper functions for training\n",
    "def train_batch(session, batch, alpha, train_embedding):\n",
    "    # Feed last column as targets\n",
    "    if train_embedding:\n",
    "        feed_dict = {x_:train_docs_ids,\n",
    "                     y_:train_labels_oh,\n",
    "                     dropout_keep_prob:dropout_prob, # No dropout\n",
    "                     alpha_:alpha}\n",
    "    else:\n",
    "        feed_dict = {x_:train_docs_ids,\n",
    "                     y_:train_labels_oh,\n",
    "                     C_:pt_word2vec, # use google word2vec\n",
    "                     dropout_keep_prob:dropout_prob, # No dropout\n",
    "                     alpha_:alpha}\n",
    "    c, a, pred, _ = session.run([loss_, accuracy_, predictions_, train_step_],\n",
    "                       feed_dict=feed_dict)\n",
    "    return c, a, pred\n",
    "\n",
    "def batch_generator(data, batch_size):\n",
    "    \"\"\"Generate minibatches from data.\"\"\"\n",
    "    for i in xrange(0, len(data), batch_size):\n",
    "        yield data[i:i+batch_size]"
   ]
  },
  {
   "cell_type": "code",
   "execution_count": 86,
   "metadata": {
    "collapsed": false
   },
   "outputs": [],
   "source": [
    "with tf.name_scope(\"Training\"):\n",
    "    alpha_ = tf.placeholder(tf.float32, name=\"learning_rate\")\n",
    "    optimizer_ = tf.train.AdagradOptimizer(alpha_)\n",
    "    #optimizer_ = tf.train.AdamOptimizer(alpha_)\n",
    "    train_step_ = optimizer_.minimize(loss_)\n",
    "    \n",
    "# Initializer step\n",
    "init_ = tf.global_variables_initializer()"
   ]
  },
  {
   "cell_type": "code",
   "execution_count": 88,
   "metadata": {
    "collapsed": false,
    "scrolled": false
   },
   "outputs": [
    {
     "name": "stdout",
     "output_type": "stream",
     "text": [
      "\n",
      "[epoch 1] seen 0 minibatches\n",
      "[epoch 1] seen 10 minibatches\n",
      "[epoch 1] seen 20 minibatches\n",
      "[epoch 1] seen 30 minibatches\n",
      "[epoch 1] Completed 36 minibatches in 0:11:26\n",
      "[epoch 1] Average cost: 5918.996\n",
      "[epoch 1] Accuracy 0.249\n",
      "[epoch 1] Classificaiton Report\n",
      "\n",
      "             precision    recall  f1-score   support\n",
      "\n",
      "          0       0.23      0.11      0.15       773\n",
      "          1       0.44      0.20      0.28       774\n",
      "          2       0.21      0.08      0.11       784\n",
      "          3       0.23      0.71      0.35       794\n",
      "          4       0.20      0.08      0.11       503\n",
      "\n",
      "avg / total       0.27      0.25      0.21      3628\n",
      "\n",
      "\n",
      "[epoch 2] seen 0 minibatches\n",
      "[epoch 2] seen 10 minibatches\n",
      "[epoch 2] seen 20 minibatches\n",
      "[epoch 2] seen 30 minibatches\n",
      "[epoch 2] Completed 36 minibatches in 0:11:31\n",
      "[epoch 2] Average cost: 2.161\n",
      "[epoch 2] Accuracy 0.268\n",
      "[epoch 2] Classificaiton Report\n",
      "\n",
      "             precision    recall  f1-score   support\n",
      "\n",
      "          0       0.27      0.19      0.22       773\n",
      "          1       0.53      0.19      0.28       774\n",
      "          2       0.20      0.07      0.10       784\n",
      "          3       0.25      0.75      0.37       794\n",
      "          4       0.23      0.06      0.09       503\n",
      "\n",
      "avg / total       0.30      0.27      0.22      3628\n",
      "\n",
      "\n",
      "[epoch 3] seen 0 minibatches\n",
      "[epoch 3] seen 10 minibatches\n",
      "[epoch 3] seen 20 minibatches\n",
      "[epoch 3] seen 30 minibatches\n",
      "[epoch 3] Completed 36 minibatches in 0:11:26\n",
      "[epoch 3] Average cost: 1.827\n",
      "[epoch 3] Accuracy 0.260\n",
      "[epoch 3] Classificaiton Report\n",
      "\n",
      "             precision    recall  f1-score   support\n",
      "\n",
      "          0       0.29      0.12      0.17       773\n",
      "          1       0.80      0.16      0.27       774\n",
      "          2       0.25      0.15      0.18       784\n",
      "          3       0.23      0.75      0.35       794\n",
      "          4       0.21      0.03      0.06       503\n",
      "\n",
      "avg / total       0.37      0.26      0.22      3628\n",
      "\n",
      "\n",
      "[epoch 4] seen 0 minibatches\n",
      "[epoch 4] seen 10 minibatches\n",
      "[epoch 4] seen 20 minibatches\n",
      "[epoch 4] seen 30 minibatches\n",
      "[epoch 4] Completed 36 minibatches in 0:11:27\n",
      "[epoch 4] Average cost: 1.711\n",
      "[epoch 4] Accuracy 0.271\n",
      "[epoch 4] Classificaiton Report\n",
      "\n",
      "             precision    recall  f1-score   support\n",
      "\n",
      "          0       0.28      0.09      0.14       773\n",
      "          1       0.51      0.22      0.30       774\n",
      "          2       0.25      0.14      0.18       784\n",
      "          3       0.25      0.78      0.37       794\n",
      "          4       0.19      0.04      0.06       503\n",
      "\n",
      "avg / total       0.30      0.27      0.22      3628\n",
      "\n",
      "\n",
      "[epoch 5] seen 0 minibatches\n",
      "[epoch 5] seen 10 minibatches\n",
      "[epoch 5] seen 20 minibatches\n",
      "[epoch 5] seen 30 minibatches\n",
      "[epoch 5] Completed 36 minibatches in 0:11:28\n",
      "[epoch 5] Average cost: 1.662\n",
      "[epoch 5] Accuracy 0.268\n",
      "[epoch 5] Classificaiton Report\n",
      "\n",
      "             precision    recall  f1-score   support\n",
      "\n",
      "          0       0.28      0.14      0.19       773\n",
      "          1       0.75      0.17      0.28       774\n",
      "          2       0.22      0.13      0.16       784\n",
      "          3       0.24      0.77      0.37       794\n",
      "          4       0.22      0.04      0.06       503\n",
      "\n",
      "avg / total       0.35      0.27      0.22      3628\n",
      "\n",
      "\n",
      "[epoch 6] seen 0 minibatches\n",
      "[epoch 6] seen 10 minibatches\n",
      "[epoch 6] seen 20 minibatches\n",
      "[epoch 6] seen 30 minibatches\n",
      "[epoch 6] Completed 36 minibatches in 0:11:33\n",
      "[epoch 6] Average cost: 1.627\n",
      "[epoch 6] Accuracy 0.277\n",
      "[epoch 6] Classificaiton Report\n",
      "\n",
      "             precision    recall  f1-score   support\n",
      "\n",
      "          0       0.30      0.18      0.22       773\n",
      "          1       0.89      0.17      0.28       774\n",
      "          2       0.26      0.15      0.19       784\n",
      "          3       0.24      0.76      0.36       794\n",
      "          4       0.34      0.04      0.07       503\n",
      "\n",
      "avg / total       0.41      0.28      0.24      3628\n",
      "\n",
      "\n",
      "[epoch 7] seen 0 minibatches\n",
      "[epoch 7] seen 10 minibatches\n",
      "[epoch 7] seen 20 minibatches\n",
      "[epoch 7] seen 30 minibatches\n",
      "[epoch 7] Completed 36 minibatches in 0:11:30\n",
      "[epoch 7] Average cost: 1.603\n",
      "[epoch 7] Accuracy 0.273\n",
      "[epoch 7] Classificaiton Report\n",
      "\n",
      "             precision    recall  f1-score   support\n",
      "\n",
      "          0       0.27      0.14      0.19       773\n",
      "          1       0.82      0.18      0.30       774\n",
      "          2       0.24      0.15      0.18       784\n",
      "          3       0.24      0.76      0.37       794\n",
      "          4       0.35      0.04      0.07       503\n",
      "\n",
      "avg / total       0.39      0.27      0.23      3628\n",
      "\n",
      "\n",
      "[epoch 8] seen 0 minibatches\n",
      "[epoch 8] seen 10 minibatches\n",
      "[epoch 8] seen 20 minibatches\n",
      "[epoch 8] seen 30 minibatches\n",
      "[epoch 8] Completed 36 minibatches in 0:11:31\n",
      "[epoch 8] Average cost: 1.595\n",
      "[epoch 8] Accuracy 0.280\n",
      "[epoch 8] Classificaiton Report\n",
      "\n",
      "             precision    recall  f1-score   support\n",
      "\n",
      "          0       0.30      0.15      0.20       773\n",
      "          1       0.87      0.20      0.33       774\n",
      "          2       0.23      0.15      0.18       784\n",
      "          3       0.24      0.76      0.37       794\n",
      "          4       0.28      0.04      0.07       503\n",
      "\n",
      "avg / total       0.39      0.28      0.24      3628\n",
      "\n",
      "\n",
      "[epoch 9] seen 0 minibatches\n",
      "[epoch 9] seen 10 minibatches\n",
      "[epoch 9] seen 20 minibatches\n",
      "[epoch 9] seen 30 minibatches\n",
      "[epoch 9] Completed 36 minibatches in 0:11:24\n",
      "[epoch 9] Average cost: 1.585\n",
      "[epoch 9] Accuracy 0.277\n",
      "[epoch 9] Classificaiton Report\n",
      "\n",
      "             precision    recall  f1-score   support\n",
      "\n",
      "          0       0.29      0.17      0.22       773\n",
      "          1       0.87      0.19      0.31       774\n",
      "          2       0.21      0.12      0.15       784\n",
      "          3       0.24      0.77      0.37       794\n",
      "          4       0.38      0.04      0.07       503\n",
      "\n",
      "avg / total       0.40      0.28      0.24      3628\n",
      "\n",
      "\n",
      "[epoch 10] seen 0 minibatches\n",
      "[epoch 10] seen 10 minibatches\n",
      "[epoch 10] seen 20 minibatches\n",
      "[epoch 10] seen 30 minibatches\n",
      "[epoch 10] Completed 36 minibatches in 0:11:31\n",
      "[epoch 10] Average cost: 1.580\n",
      "[epoch 10] Accuracy 0.274\n",
      "[epoch 10] Classificaiton Report\n",
      "\n",
      "             precision    recall  f1-score   support\n",
      "\n",
      "          0       0.29      0.16      0.21       773\n",
      "          1       0.89      0.17      0.29       774\n",
      "          2       0.23      0.14      0.17       784\n",
      "          3       0.24      0.77      0.37       794\n",
      "          4       0.38      0.03      0.06       503\n",
      "\n",
      "avg / total       0.41      0.27      0.23      3628\n",
      "\n"
     ]
    }
   ],
   "source": [
    "# One epoch = one pass through the training data\n",
    "num_epochs = 10\n",
    "batch_size = 100\n",
    "alpha = 0.5  # learning rate\n",
    "min_alpha = 0.1\n",
    "alpha_delta = (alpha - min_alpha) / num_epochs\n",
    "print_every = 10\n",
    "\n",
    "np.random.seed(42)\n",
    "\n",
    "session = tf.Session()\n",
    "session.run(init_)\n",
    "\n",
    "t0 = time.time()\n",
    "for epoch in xrange(1,num_epochs+1):\n",
    "    t0_epoch = time.time()\n",
    "    epoch_cost = 0.0\n",
    "    total_batches = 0\n",
    "    print \"\"\n",
    "    for i, batch in enumerate(batch_generator(train_docs_ids, batch_size)):\n",
    "        if (i % print_every == 0):\n",
    "            print \"[epoch %d] seen %d minibatches\" % (epoch, i)\n",
    "        \n",
    "        cost, accuracy, pred = train_batch(session, batch, alpha, embedding_train)\n",
    "        epoch_cost += cost\n",
    "        total_batches = i + 1\n",
    "\n",
    "    avg_cost = epoch_cost / total_batches\n",
    "    alpha = alpha - alpha_delta\n",
    "    print \"[epoch %d] Completed %d minibatches in %s\" % (epoch, i, utils.pretty_timedelta(since=t0_epoch))\n",
    "    print \"[epoch %d] Average cost: %.03f\" % (epoch, avg_cost,)\n",
    "    print \"[epoch %d] Accuracy %.03f\" %(epoch, accuracy)\n",
    "    print \"[epoch %d] Classificaiton Report\\n\" %(epoch)\n",
    "    print classification_report(train_labels, pred)"
   ]
  },
  {
   "cell_type": "markdown",
   "metadata": {},
   "source": [
    "#### Evaluation with Test Set with Trained Embedding"
   ]
  },
  {
   "cell_type": "code",
   "execution_count": 89,
   "metadata": {
    "collapsed": false,
    "scrolled": false
   },
   "outputs": [
    {
     "name": "stdout",
     "output_type": "stream",
     "text": [
      "Test Accuracy is 0.261\n",
      "             precision    recall  f1-score   support\n",
      "\n",
      "          0       0.34      0.15      0.21       200\n",
      "          1       0.41      0.14      0.21       211\n",
      "          2       0.21      0.15      0.18       179\n",
      "          3       0.25      0.77      0.37       193\n",
      "          4       0.12      0.02      0.03       125\n",
      "\n",
      "avg / total       0.28      0.26      0.21       908\n",
      "\n"
     ]
    }
   ],
   "source": [
    "def predict_batch(session):\n",
    "    feed_dict = {x_:test_docs_ids,\n",
    "                 y_:test_labels_oh,\n",
    "                 dropout_keep_prob:dropout_prob}\n",
    "    a, pred = session.run([accuracy_, predictions_], feed_dict=feed_dict)\n",
    "    return a, pred\n",
    "\n",
    "accuracy, pred = predict_batch(session)\n",
    "print \"Test Accuracy is %.03f\" %(accuracy)\n",
    "print classification_report(test_labels, pred)"
   ]
  },
  {
   "cell_type": "markdown",
   "metadata": {},
   "source": [
    "#### Evaluation with Test Set with Google Word2vec"
   ]
  },
  {
   "cell_type": "code",
   "execution_count": 76,
   "metadata": {
    "collapsed": false
   },
   "outputs": [
    {
     "name": "stdout",
     "output_type": "stream",
     "text": [
      "Test Accuracy is 0.211\n",
      "             precision    recall  f1-score   support\n",
      "\n",
      "          0       0.43      0.03      0.06       200\n",
      "          1       0.12      0.01      0.02       211\n",
      "          2       0.08      0.01      0.01       179\n",
      "          3       0.21      0.95      0.35       193\n",
      "          4       0.00      0.00      0.00       125\n",
      "\n",
      "avg / total       0.18      0.21      0.09       908\n",
      "\n"
     ]
    }
   ],
   "source": [
    "def predict_batch(session):\n",
    "    feed_dict = {x_:test_docs_ids,\n",
    "                 y_:test_labels_oh,\n",
    "                 C_:pt_word2vec,\n",
    "                 dropout_keep_prob:dropout_prob}\n",
    "    a, pred = session.run([accuracy_, predictions_], feed_dict=feed_dict)\n",
    "    return a, pred\n",
    "\n",
    "accuracy, pred = predict_batch(session)\n",
    "print \"Test Accuracy is %.03f\" %(accuracy)\n",
    "print classification_report(test_labels, pred)"
   ]
  },
  {
   "cell_type": "code",
   "execution_count": null,
   "metadata": {
    "collapsed": true
   },
   "outputs": [],
   "source": []
  },
  {
   "cell_type": "code",
   "execution_count": null,
   "metadata": {
    "collapsed": true
   },
   "outputs": [],
   "source": []
  }
 ],
 "metadata": {
  "kernelspec": {
   "display_name": "Python 2",
   "language": "python",
   "name": "python2"
  },
  "language_info": {
   "codemirror_mode": {
    "name": "ipython",
    "version": 2
   },
   "file_extension": ".py",
   "mimetype": "text/x-python",
   "name": "python",
   "nbconvert_exporter": "python",
   "pygments_lexer": "ipython2",
   "version": "2.7.13"
  }
 },
 "nbformat": 4,
 "nbformat_minor": 2
}
